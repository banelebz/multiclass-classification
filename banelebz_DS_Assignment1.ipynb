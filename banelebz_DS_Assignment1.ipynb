{
  "nbformat": 4,
  "nbformat_minor": 0,
  "metadata": {
    "colab": {
      "name": "banelebz_DS_Assignment1.ipynb",
      "provenance": [],
      "collapsed_sections": []
    },
    "kernelspec": {
      "name": "python3",
      "display_name": "Python 3"
    },
    "language_info": {
      "name": "python"
    }
  },
  "cells": [
    {
      "cell_type": "markdown",
      "source": [
        "I  have  provided  a  dataset  which  has  a  number  of  features  and  a  single  target  (last  column  in  dataset).  Your  task  is  to  use neural  networks  to  address  this multiclass classification problem.  \n",
        "\n",
        "Some  hints: \n",
        "\n",
        "1. Are the classes in order in the dataset? Does something need to be done about that? \n",
        "\n",
        "2. Is the scale of the dataset suitable as is?\n",
        "\n",
        "Import the dataset using Pandas as follows:"
      ],
      "metadata": {
        "id": "VhqSJBAJyeC-"
      }
    },
    {
      "cell_type": "markdown",
      "source": [
        "## Importing modules"
      ],
      "metadata": {
        "id": "L_WG3N2Esu1_"
      }
    },
    {
      "cell_type": "code",
      "source": [
        "import numpy as np\n",
        "np.random.seed(1)\n",
        "import random\n",
        "import matplotlib.pyplot as plt\n",
        "from keras.utils import np_utils\n",
        "from sklearn.metrics import accuracy_score, confusion_matrix\n",
        "from sklearn.preprocessing import LabelEncoder\n",
        "from tensorflow.keras.models import Sequential\n",
        "from tensorflow.keras.layers import Dense\n",
        "import pandas as pd\n",
        "from sklearn.model_selection import train_test_split\n",
        "import seaborn as sns\n",
        "from sklearn.utils import class_weight as cw\n",
        "from imblearn.under_sampling import RandomUnderSampler\n",
        "import seaborn as sns\n",
        "from collections import Counter\n",
        "%matplotlib inline"
      ],
      "metadata": {
        "id": "UrBZxJT3zII7"
      },
      "execution_count": 337,
      "outputs": []
    },
    {
      "cell_type": "markdown",
      "source": [
        "## Load the dataset"
      ],
      "metadata": {
        "id": "FLJo2FsLSsf3"
      }
    },
    {
      "cell_type": "code",
      "source": [
        "dataframe=pd.read_csv(\"https://drive.google.com/uc?id=1PzJA23lUSlf2x1DeF_ek1YSAj-RFHWCp\")"
      ],
      "metadata": {
        "id": "2qvsXEyeyttP"
      },
      "execution_count": 338,
      "outputs": []
    },
    {
      "cell_type": "markdown",
      "source": [
        "## Check the data"
      ],
      "metadata": {
        "id": "fqVqJX-UT0st"
      }
    },
    {
      "cell_type": "code",
      "source": [
        "dataframe.head() # checking the first 5 data"
      ],
      "metadata": {
        "colab": {
          "base_uri": "https://localhost:8080/",
          "height": 270
        },
        "id": "pyrtOq_z1z9s",
        "outputId": "d89699d1-cd93-46fc-d2c1-8025a46ea547"
      },
      "execution_count": 339,
      "outputs": [
        {
          "output_type": "execute_result",
          "data": {
            "text/html": [
              "\n",
              "  <div id=\"df-ef8ffafe-ab1e-4d6f-a474-72d14291b437\">\n",
              "    <div class=\"colab-df-container\">\n",
              "      <div>\n",
              "<style scoped>\n",
              "    .dataframe tbody tr th:only-of-type {\n",
              "        vertical-align: middle;\n",
              "    }\n",
              "\n",
              "    .dataframe tbody tr th {\n",
              "        vertical-align: top;\n",
              "    }\n",
              "\n",
              "    .dataframe thead th {\n",
              "        text-align: right;\n",
              "    }\n",
              "</style>\n",
              "<table border=\"1\" class=\"dataframe\">\n",
              "  <thead>\n",
              "    <tr style=\"text-align: right;\">\n",
              "      <th></th>\n",
              "      <th>1</th>\n",
              "      <th>2</th>\n",
              "      <th>3</th>\n",
              "      <th>4</th>\n",
              "      <th>5</th>\n",
              "      <th>6</th>\n",
              "      <th>7</th>\n",
              "      <th>8</th>\n",
              "      <th>9</th>\n",
              "      <th>10</th>\n",
              "      <th>11</th>\n",
              "      <th>12</th>\n",
              "      <th>13</th>\n",
              "      <th>14</th>\n",
              "      <th>15</th>\n",
              "      <th>16</th>\n",
              "      <th>17</th>\n",
              "      <th>18</th>\n",
              "      <th>19</th>\n",
              "      <th>20</th>\n",
              "      <th>21</th>\n",
              "      <th>Target</th>\n",
              "    </tr>\n",
              "  </thead>\n",
              "  <tbody>\n",
              "    <tr>\n",
              "      <th>0</th>\n",
              "      <td>0.152936</td>\n",
              "      <td>-0.105586</td>\n",
              "      <td>0.200722</td>\n",
              "      <td>0.317201</td>\n",
              "      <td>0.260764</td>\n",
              "      <td>0.100945</td>\n",
              "      <td>-0.150063</td>\n",
              "      <td>-0.171128</td>\n",
              "      <td>0.124676</td>\n",
              "      <td>0.188654</td>\n",
              "      <td>-0.075622</td>\n",
              "      <td>-0.156436</td>\n",
              "      <td>0.082245</td>\n",
              "      <td>0.135752</td>\n",
              "      <td>-0.024017</td>\n",
              "      <td>-0.108351</td>\n",
              "      <td>-0.077623</td>\n",
              "      <td>-0.009568</td>\n",
              "      <td>0.057684</td>\n",
              "      <td>0.118680</td>\n",
              "      <td>0.014038</td>\n",
              "      <td>0</td>\n",
              "    </tr>\n",
              "    <tr>\n",
              "      <th>1</th>\n",
              "      <td>0.171534</td>\n",
              "      <td>-0.098975</td>\n",
              "      <td>0.268425</td>\n",
              "      <td>0.338672</td>\n",
              "      <td>0.268353</td>\n",
              "      <td>0.060835</td>\n",
              "      <td>-0.222475</td>\n",
              "      <td>-0.207693</td>\n",
              "      <td>0.170883</td>\n",
              "      <td>0.270958</td>\n",
              "      <td>-0.095004</td>\n",
              "      <td>-0.254341</td>\n",
              "      <td>0.022786</td>\n",
              "      <td>0.163320</td>\n",
              "      <td>0.012022</td>\n",
              "      <td>-0.090974</td>\n",
              "      <td>-0.056510</td>\n",
              "      <td>-0.035303</td>\n",
              "      <td>0.020140</td>\n",
              "      <td>0.082263</td>\n",
              "      <td>0.029056</td>\n",
              "      <td>0</td>\n",
              "    </tr>\n",
              "    <tr>\n",
              "      <th>2</th>\n",
              "      <td>0.152317</td>\n",
              "      <td>-0.082973</td>\n",
              "      <td>0.287128</td>\n",
              "      <td>0.276014</td>\n",
              "      <td>0.189867</td>\n",
              "      <td>0.008714</td>\n",
              "      <td>-0.242234</td>\n",
              "      <td>-0.219153</td>\n",
              "      <td>0.232538</td>\n",
              "      <td>0.266064</td>\n",
              "      <td>-0.072827</td>\n",
              "      <td>-0.237384</td>\n",
              "      <td>0.050791</td>\n",
              "      <td>0.207338</td>\n",
              "      <td>0.083536</td>\n",
              "      <td>-0.050691</td>\n",
              "      <td>-0.023590</td>\n",
              "      <td>-0.066722</td>\n",
              "      <td>-0.025083</td>\n",
              "      <td>0.099108</td>\n",
              "      <td>0.077162</td>\n",
              "      <td>0</td>\n",
              "    </tr>\n",
              "    <tr>\n",
              "      <th>3</th>\n",
              "      <td>0.224392</td>\n",
              "      <td>0.118985</td>\n",
              "      <td>0.329432</td>\n",
              "      <td>0.372088</td>\n",
              "      <td>0.361005</td>\n",
              "      <td>0.015501</td>\n",
              "      <td>-0.194347</td>\n",
              "      <td>-0.098181</td>\n",
              "      <td>0.270375</td>\n",
              "      <td>0.267279</td>\n",
              "      <td>-0.162258</td>\n",
              "      <td>-0.317084</td>\n",
              "      <td>-0.011567</td>\n",
              "      <td>0.100413</td>\n",
              "      <td>-0.050224</td>\n",
              "      <td>-0.136009</td>\n",
              "      <td>-0.177037</td>\n",
              "      <td>-0.130498</td>\n",
              "      <td>-0.054766</td>\n",
              "      <td>-0.018691</td>\n",
              "      <td>0.023954</td>\n",
              "      <td>0</td>\n",
              "    </tr>\n",
              "    <tr>\n",
              "      <th>4</th>\n",
              "      <td>0.087817</td>\n",
              "      <td>-0.068345</td>\n",
              "      <td>0.306967</td>\n",
              "      <td>0.330923</td>\n",
              "      <td>0.249144</td>\n",
              "      <td>0.006884</td>\n",
              "      <td>-0.265423</td>\n",
              "      <td>-0.172700</td>\n",
              "      <td>0.266434</td>\n",
              "      <td>0.332695</td>\n",
              "      <td>-0.100749</td>\n",
              "      <td>-0.298524</td>\n",
              "      <td>0.037439</td>\n",
              "      <td>0.219153</td>\n",
              "      <td>0.062837</td>\n",
              "      <td>-0.048885</td>\n",
              "      <td>-0.053074</td>\n",
              "      <td>-0.088550</td>\n",
              "      <td>-0.031346</td>\n",
              "      <td>0.108610</td>\n",
              "      <td>0.079244</td>\n",
              "      <td>0</td>\n",
              "    </tr>\n",
              "  </tbody>\n",
              "</table>\n",
              "</div>\n",
              "      <button class=\"colab-df-convert\" onclick=\"convertToInteractive('df-ef8ffafe-ab1e-4d6f-a474-72d14291b437')\"\n",
              "              title=\"Convert this dataframe to an interactive table.\"\n",
              "              style=\"display:none;\">\n",
              "        \n",
              "  <svg xmlns=\"http://www.w3.org/2000/svg\" height=\"24px\"viewBox=\"0 0 24 24\"\n",
              "       width=\"24px\">\n",
              "    <path d=\"M0 0h24v24H0V0z\" fill=\"none\"/>\n",
              "    <path d=\"M18.56 5.44l.94 2.06.94-2.06 2.06-.94-2.06-.94-.94-2.06-.94 2.06-2.06.94zm-11 1L8.5 8.5l.94-2.06 2.06-.94-2.06-.94L8.5 2.5l-.94 2.06-2.06.94zm10 10l.94 2.06.94-2.06 2.06-.94-2.06-.94-.94-2.06-.94 2.06-2.06.94z\"/><path d=\"M17.41 7.96l-1.37-1.37c-.4-.4-.92-.59-1.43-.59-.52 0-1.04.2-1.43.59L10.3 9.45l-7.72 7.72c-.78.78-.78 2.05 0 2.83L4 21.41c.39.39.9.59 1.41.59.51 0 1.02-.2 1.41-.59l7.78-7.78 2.81-2.81c.8-.78.8-2.07 0-2.86zM5.41 20L4 18.59l7.72-7.72 1.47 1.35L5.41 20z\"/>\n",
              "  </svg>\n",
              "      </button>\n",
              "      \n",
              "  <style>\n",
              "    .colab-df-container {\n",
              "      display:flex;\n",
              "      flex-wrap:wrap;\n",
              "      gap: 12px;\n",
              "    }\n",
              "\n",
              "    .colab-df-convert {\n",
              "      background-color: #E8F0FE;\n",
              "      border: none;\n",
              "      border-radius: 50%;\n",
              "      cursor: pointer;\n",
              "      display: none;\n",
              "      fill: #1967D2;\n",
              "      height: 32px;\n",
              "      padding: 0 0 0 0;\n",
              "      width: 32px;\n",
              "    }\n",
              "\n",
              "    .colab-df-convert:hover {\n",
              "      background-color: #E2EBFA;\n",
              "      box-shadow: 0px 1px 2px rgba(60, 64, 67, 0.3), 0px 1px 3px 1px rgba(60, 64, 67, 0.15);\n",
              "      fill: #174EA6;\n",
              "    }\n",
              "\n",
              "    [theme=dark] .colab-df-convert {\n",
              "      background-color: #3B4455;\n",
              "      fill: #D2E3FC;\n",
              "    }\n",
              "\n",
              "    [theme=dark] .colab-df-convert:hover {\n",
              "      background-color: #434B5C;\n",
              "      box-shadow: 0px 1px 3px 1px rgba(0, 0, 0, 0.15);\n",
              "      filter: drop-shadow(0px 1px 2px rgba(0, 0, 0, 0.3));\n",
              "      fill: #FFFFFF;\n",
              "    }\n",
              "  </style>\n",
              "\n",
              "      <script>\n",
              "        const buttonEl =\n",
              "          document.querySelector('#df-ef8ffafe-ab1e-4d6f-a474-72d14291b437 button.colab-df-convert');\n",
              "        buttonEl.style.display =\n",
              "          google.colab.kernel.accessAllowed ? 'block' : 'none';\n",
              "\n",
              "        async function convertToInteractive(key) {\n",
              "          const element = document.querySelector('#df-ef8ffafe-ab1e-4d6f-a474-72d14291b437');\n",
              "          const dataTable =\n",
              "            await google.colab.kernel.invokeFunction('convertToInteractive',\n",
              "                                                     [key], {});\n",
              "          if (!dataTable) return;\n",
              "\n",
              "          const docLinkHtml = 'Like what you see? Visit the ' +\n",
              "            '<a target=\"_blank\" href=https://colab.research.google.com/notebooks/data_table.ipynb>data table notebook</a>'\n",
              "            + ' to learn more about interactive tables.';\n",
              "          element.innerHTML = '';\n",
              "          dataTable['output_type'] = 'display_data';\n",
              "          await google.colab.output.renderOutput(dataTable, element);\n",
              "          const docLink = document.createElement('div');\n",
              "          docLink.innerHTML = docLinkHtml;\n",
              "          element.appendChild(docLink);\n",
              "        }\n",
              "      </script>\n",
              "    </div>\n",
              "  </div>\n",
              "  "
            ],
            "text/plain": [
              "          1         2         3         4  ...        19        20        21  Target\n",
              "0  0.152936 -0.105586  0.200722  0.317201  ...  0.057684  0.118680  0.014038       0\n",
              "1  0.171534 -0.098975  0.268425  0.338672  ...  0.020140  0.082263  0.029056       0\n",
              "2  0.152317 -0.082973  0.287128  0.276014  ... -0.025083  0.099108  0.077162       0\n",
              "3  0.224392  0.118985  0.329432  0.372088  ... -0.054766 -0.018691  0.023954       0\n",
              "4  0.087817 -0.068345  0.306967  0.330923  ... -0.031346  0.108610  0.079244       0\n",
              "\n",
              "[5 rows x 22 columns]"
            ]
          },
          "metadata": {},
          "execution_count": 339
        }
      ]
    },
    {
      "cell_type": "code",
      "source": [
        "dataframe.describe() # checking descrition of data"
      ],
      "metadata": {
        "colab": {
          "base_uri": "https://localhost:8080/",
          "height": 364
        },
        "id": "OAWfEodB69M2",
        "outputId": "2c4bac08-4a90-4486-a908-ab35e7d8b2b7"
      },
      "execution_count": 340,
      "outputs": [
        {
          "output_type": "execute_result",
          "data": {
            "text/html": [
              "\n",
              "  <div id=\"df-c949c2f5-e7ec-4bbf-a2f8-bdfc1666205f\">\n",
              "    <div class=\"colab-df-container\">\n",
              "      <div>\n",
              "<style scoped>\n",
              "    .dataframe tbody tr th:only-of-type {\n",
              "        vertical-align: middle;\n",
              "    }\n",
              "\n",
              "    .dataframe tbody tr th {\n",
              "        vertical-align: top;\n",
              "    }\n",
              "\n",
              "    .dataframe thead th {\n",
              "        text-align: right;\n",
              "    }\n",
              "</style>\n",
              "<table border=\"1\" class=\"dataframe\">\n",
              "  <thead>\n",
              "    <tr style=\"text-align: right;\">\n",
              "      <th></th>\n",
              "      <th>1</th>\n",
              "      <th>2</th>\n",
              "      <th>3</th>\n",
              "      <th>4</th>\n",
              "      <th>5</th>\n",
              "      <th>6</th>\n",
              "      <th>7</th>\n",
              "      <th>8</th>\n",
              "      <th>9</th>\n",
              "      <th>10</th>\n",
              "      <th>11</th>\n",
              "      <th>12</th>\n",
              "      <th>13</th>\n",
              "      <th>14</th>\n",
              "      <th>15</th>\n",
              "      <th>16</th>\n",
              "      <th>17</th>\n",
              "      <th>18</th>\n",
              "      <th>19</th>\n",
              "      <th>20</th>\n",
              "      <th>21</th>\n",
              "      <th>Target</th>\n",
              "    </tr>\n",
              "  </thead>\n",
              "  <tbody>\n",
              "    <tr>\n",
              "      <th>count</th>\n",
              "      <td>5474.000000</td>\n",
              "      <td>5474.000000</td>\n",
              "      <td>5474.000000</td>\n",
              "      <td>5474.000000</td>\n",
              "      <td>5474.000000</td>\n",
              "      <td>5474.000000</td>\n",
              "      <td>5474.000000</td>\n",
              "      <td>5474.000000</td>\n",
              "      <td>5474.000000</td>\n",
              "      <td>5474.000000</td>\n",
              "      <td>5474.000000</td>\n",
              "      <td>5474.000000</td>\n",
              "      <td>5474.000000</td>\n",
              "      <td>5474.000000</td>\n",
              "      <td>5474.000000</td>\n",
              "      <td>5474.000000</td>\n",
              "      <td>5474.000000</td>\n",
              "      <td>5474.000000</td>\n",
              "      <td>5474.000000</td>\n",
              "      <td>5474.000000</td>\n",
              "      <td>5474.000000</td>\n",
              "      <td>5474.000000</td>\n",
              "    </tr>\n",
              "    <tr>\n",
              "      <th>mean</th>\n",
              "      <td>0.325149</td>\n",
              "      <td>0.250856</td>\n",
              "      <td>0.484763</td>\n",
              "      <td>0.157566</td>\n",
              "      <td>0.064476</td>\n",
              "      <td>-0.034676</td>\n",
              "      <td>0.027441</td>\n",
              "      <td>0.158756</td>\n",
              "      <td>0.044486</td>\n",
              "      <td>-0.144606</td>\n",
              "      <td>0.049033</td>\n",
              "      <td>0.167862</td>\n",
              "      <td>-0.047705</td>\n",
              "      <td>-0.113735</td>\n",
              "      <td>0.047191</td>\n",
              "      <td>0.102357</td>\n",
              "      <td>0.009344</td>\n",
              "      <td>-0.067307</td>\n",
              "      <td>-0.071956</td>\n",
              "      <td>0.051448</td>\n",
              "      <td>0.111858</td>\n",
              "      <td>1.884545</td>\n",
              "    </tr>\n",
              "    <tr>\n",
              "      <th>std</th>\n",
              "      <td>0.204522</td>\n",
              "      <td>0.243939</td>\n",
              "      <td>0.149252</td>\n",
              "      <td>0.150190</td>\n",
              "      <td>0.101864</td>\n",
              "      <td>0.171234</td>\n",
              "      <td>0.100768</td>\n",
              "      <td>0.186429</td>\n",
              "      <td>0.131958</td>\n",
              "      <td>0.196909</td>\n",
              "      <td>0.171561</td>\n",
              "      <td>0.226988</td>\n",
              "      <td>0.165983</td>\n",
              "      <td>0.208250</td>\n",
              "      <td>0.130303</td>\n",
              "      <td>0.150444</td>\n",
              "      <td>0.092064</td>\n",
              "      <td>0.082618</td>\n",
              "      <td>0.094601</td>\n",
              "      <td>0.080394</td>\n",
              "      <td>0.126817</td>\n",
              "      <td>0.989164</td>\n",
              "    </tr>\n",
              "    <tr>\n",
              "      <th>min</th>\n",
              "      <td>-0.500320</td>\n",
              "      <td>-0.436028</td>\n",
              "      <td>-0.472676</td>\n",
              "      <td>-0.447495</td>\n",
              "      <td>-0.313397</td>\n",
              "      <td>-0.538982</td>\n",
              "      <td>-0.576506</td>\n",
              "      <td>-0.513460</td>\n",
              "      <td>-0.518323</td>\n",
              "      <td>-0.901989</td>\n",
              "      <td>-0.799441</td>\n",
              "      <td>-0.644116</td>\n",
              "      <td>-0.565970</td>\n",
              "      <td>-0.717156</td>\n",
              "      <td>-0.498675</td>\n",
              "      <td>-0.421480</td>\n",
              "      <td>-0.759322</td>\n",
              "      <td>-0.680745</td>\n",
              "      <td>-0.361649</td>\n",
              "      <td>-0.430812</td>\n",
              "      <td>-0.375461</td>\n",
              "      <td>0.000000</td>\n",
              "    </tr>\n",
              "    <tr>\n",
              "      <th>25%</th>\n",
              "      <td>0.174858</td>\n",
              "      <td>0.096745</td>\n",
              "      <td>0.418656</td>\n",
              "      <td>0.106469</td>\n",
              "      <td>-0.001002</td>\n",
              "      <td>-0.140004</td>\n",
              "      <td>-0.018584</td>\n",
              "      <td>0.125626</td>\n",
              "      <td>-0.014899</td>\n",
              "      <td>-0.288113</td>\n",
              "      <td>-0.051382</td>\n",
              "      <td>-0.047151</td>\n",
              "      <td>-0.155606</td>\n",
              "      <td>-0.275271</td>\n",
              "      <td>-0.025788</td>\n",
              "      <td>-0.011130</td>\n",
              "      <td>-0.052096</td>\n",
              "      <td>-0.119219</td>\n",
              "      <td>-0.140703</td>\n",
              "      <td>-0.002805</td>\n",
              "      <td>0.022143</td>\n",
              "      <td>2.000000</td>\n",
              "    </tr>\n",
              "    <tr>\n",
              "      <th>50%</th>\n",
              "      <td>0.304040</td>\n",
              "      <td>0.210390</td>\n",
              "      <td>0.520782</td>\n",
              "      <td>0.180817</td>\n",
              "      <td>0.046851</td>\n",
              "      <td>-0.089144</td>\n",
              "      <td>0.034649</td>\n",
              "      <td>0.227751</td>\n",
              "      <td>0.045297</td>\n",
              "      <td>-0.214559</td>\n",
              "      <td>0.067512</td>\n",
              "      <td>0.260931</td>\n",
              "      <td>-0.072582</td>\n",
              "      <td>-0.201127</td>\n",
              "      <td>0.051501</td>\n",
              "      <td>0.161939</td>\n",
              "      <td>0.014949</td>\n",
              "      <td>-0.077523</td>\n",
              "      <td>-0.082641</td>\n",
              "      <td>0.049956</td>\n",
              "      <td>0.160371</td>\n",
              "      <td>2.000000</td>\n",
              "    </tr>\n",
              "    <tr>\n",
              "      <th>75%</th>\n",
              "      <td>0.451091</td>\n",
              "      <td>0.337773</td>\n",
              "      <td>0.575542</td>\n",
              "      <td>0.238215</td>\n",
              "      <td>0.107995</td>\n",
              "      <td>0.003196</td>\n",
              "      <td>0.086519</td>\n",
              "      <td>0.279041</td>\n",
              "      <td>0.112402</td>\n",
              "      <td>-0.033826</td>\n",
              "      <td>0.155289</td>\n",
              "      <td>0.344301</td>\n",
              "      <td>0.042184</td>\n",
              "      <td>0.076152</td>\n",
              "      <td>0.126679</td>\n",
              "      <td>0.216912</td>\n",
              "      <td>0.076296</td>\n",
              "      <td>-0.022659</td>\n",
              "      <td>-0.023184</td>\n",
              "      <td>0.105675</td>\n",
              "      <td>0.207754</td>\n",
              "      <td>2.000000</td>\n",
              "    </tr>\n",
              "    <tr>\n",
              "      <th>max</th>\n",
              "      <td>1.000000</td>\n",
              "      <td>1.000000</td>\n",
              "      <td>1.000000</td>\n",
              "      <td>0.752246</td>\n",
              "      <td>0.846513</td>\n",
              "      <td>0.696887</td>\n",
              "      <td>0.551762</td>\n",
              "      <td>0.642738</td>\n",
              "      <td>0.522768</td>\n",
              "      <td>0.523033</td>\n",
              "      <td>0.669470</td>\n",
              "      <td>0.945710</td>\n",
              "      <td>0.566873</td>\n",
              "      <td>0.668924</td>\n",
              "      <td>0.548584</td>\n",
              "      <td>0.681157</td>\n",
              "      <td>0.614064</td>\n",
              "      <td>0.388499</td>\n",
              "      <td>0.306126</td>\n",
              "      <td>0.389797</td>\n",
              "      <td>0.432207</td>\n",
              "      <td>4.000000</td>\n",
              "    </tr>\n",
              "  </tbody>\n",
              "</table>\n",
              "</div>\n",
              "      <button class=\"colab-df-convert\" onclick=\"convertToInteractive('df-c949c2f5-e7ec-4bbf-a2f8-bdfc1666205f')\"\n",
              "              title=\"Convert this dataframe to an interactive table.\"\n",
              "              style=\"display:none;\">\n",
              "        \n",
              "  <svg xmlns=\"http://www.w3.org/2000/svg\" height=\"24px\"viewBox=\"0 0 24 24\"\n",
              "       width=\"24px\">\n",
              "    <path d=\"M0 0h24v24H0V0z\" fill=\"none\"/>\n",
              "    <path d=\"M18.56 5.44l.94 2.06.94-2.06 2.06-.94-2.06-.94-.94-2.06-.94 2.06-2.06.94zm-11 1L8.5 8.5l.94-2.06 2.06-.94-2.06-.94L8.5 2.5l-.94 2.06-2.06.94zm10 10l.94 2.06.94-2.06 2.06-.94-2.06-.94-.94-2.06-.94 2.06-2.06.94z\"/><path d=\"M17.41 7.96l-1.37-1.37c-.4-.4-.92-.59-1.43-.59-.52 0-1.04.2-1.43.59L10.3 9.45l-7.72 7.72c-.78.78-.78 2.05 0 2.83L4 21.41c.39.39.9.59 1.41.59.51 0 1.02-.2 1.41-.59l7.78-7.78 2.81-2.81c.8-.78.8-2.07 0-2.86zM5.41 20L4 18.59l7.72-7.72 1.47 1.35L5.41 20z\"/>\n",
              "  </svg>\n",
              "      </button>\n",
              "      \n",
              "  <style>\n",
              "    .colab-df-container {\n",
              "      display:flex;\n",
              "      flex-wrap:wrap;\n",
              "      gap: 12px;\n",
              "    }\n",
              "\n",
              "    .colab-df-convert {\n",
              "      background-color: #E8F0FE;\n",
              "      border: none;\n",
              "      border-radius: 50%;\n",
              "      cursor: pointer;\n",
              "      display: none;\n",
              "      fill: #1967D2;\n",
              "      height: 32px;\n",
              "      padding: 0 0 0 0;\n",
              "      width: 32px;\n",
              "    }\n",
              "\n",
              "    .colab-df-convert:hover {\n",
              "      background-color: #E2EBFA;\n",
              "      box-shadow: 0px 1px 2px rgba(60, 64, 67, 0.3), 0px 1px 3px 1px rgba(60, 64, 67, 0.15);\n",
              "      fill: #174EA6;\n",
              "    }\n",
              "\n",
              "    [theme=dark] .colab-df-convert {\n",
              "      background-color: #3B4455;\n",
              "      fill: #D2E3FC;\n",
              "    }\n",
              "\n",
              "    [theme=dark] .colab-df-convert:hover {\n",
              "      background-color: #434B5C;\n",
              "      box-shadow: 0px 1px 3px 1px rgba(0, 0, 0, 0.15);\n",
              "      filter: drop-shadow(0px 1px 2px rgba(0, 0, 0, 0.3));\n",
              "      fill: #FFFFFF;\n",
              "    }\n",
              "  </style>\n",
              "\n",
              "      <script>\n",
              "        const buttonEl =\n",
              "          document.querySelector('#df-c949c2f5-e7ec-4bbf-a2f8-bdfc1666205f button.colab-df-convert');\n",
              "        buttonEl.style.display =\n",
              "          google.colab.kernel.accessAllowed ? 'block' : 'none';\n",
              "\n",
              "        async function convertToInteractive(key) {\n",
              "          const element = document.querySelector('#df-c949c2f5-e7ec-4bbf-a2f8-bdfc1666205f');\n",
              "          const dataTable =\n",
              "            await google.colab.kernel.invokeFunction('convertToInteractive',\n",
              "                                                     [key], {});\n",
              "          if (!dataTable) return;\n",
              "\n",
              "          const docLinkHtml = 'Like what you see? Visit the ' +\n",
              "            '<a target=\"_blank\" href=https://colab.research.google.com/notebooks/data_table.ipynb>data table notebook</a>'\n",
              "            + ' to learn more about interactive tables.';\n",
              "          element.innerHTML = '';\n",
              "          dataTable['output_type'] = 'display_data';\n",
              "          await google.colab.output.renderOutput(dataTable, element);\n",
              "          const docLink = document.createElement('div');\n",
              "          docLink.innerHTML = docLinkHtml;\n",
              "          element.appendChild(docLink);\n",
              "        }\n",
              "      </script>\n",
              "    </div>\n",
              "  </div>\n",
              "  "
            ],
            "text/plain": [
              "                 1            2  ...           21       Target\n",
              "count  5474.000000  5474.000000  ...  5474.000000  5474.000000\n",
              "mean      0.325149     0.250856  ...     0.111858     1.884545\n",
              "std       0.204522     0.243939  ...     0.126817     0.989164\n",
              "min      -0.500320    -0.436028  ...    -0.375461     0.000000\n",
              "25%       0.174858     0.096745  ...     0.022143     2.000000\n",
              "50%       0.304040     0.210390  ...     0.160371     2.000000\n",
              "75%       0.451091     0.337773  ...     0.207754     2.000000\n",
              "max       1.000000     1.000000  ...     0.432207     4.000000\n",
              "\n",
              "[8 rows x 22 columns]"
            ]
          },
          "metadata": {},
          "execution_count": 340
        }
      ]
    },
    {
      "cell_type": "markdown",
      "source": [
        "## Checking the length of data"
      ],
      "metadata": {
        "id": "9s3CI6L3T6c1"
      }
    },
    {
      "cell_type": "code",
      "source": [
        "len(dataframe) # length of data "
      ],
      "metadata": {
        "colab": {
          "base_uri": "https://localhost:8080/"
        },
        "id": "uklHHM1j7TKC",
        "outputId": "abb32035-9737-4102-ac97-7d9c6bc9708e"
      },
      "execution_count": 341,
      "outputs": [
        {
          "output_type": "execute_result",
          "data": {
            "text/plain": [
              "5474"
            ]
          },
          "metadata": {},
          "execution_count": 341
        }
      ]
    },
    {
      "cell_type": "markdown",
      "source": [
        "## Spliting data into input(features) X and Y(Output) "
      ],
      "metadata": {
        "id": "uiAQ6R-QUBPc"
      }
    },
    {
      "cell_type": "code",
      "source": [
        "X=dataframe.iloc[:,0:21]\n",
        "Y=dataframe.iloc[:,21:22]"
      ],
      "metadata": {
        "id": "ZZbfwMUXkm2C"
      },
      "execution_count": 342,
      "outputs": []
    },
    {
      "cell_type": "markdown",
      "source": [
        "## Checking Data after spliting "
      ],
      "metadata": {
        "id": "_97LlBbRUSgg"
      }
    },
    {
      "cell_type": "code",
      "source": [
        "Y # checking the target"
      ],
      "metadata": {
        "colab": {
          "base_uri": "https://localhost:8080/",
          "height": 424
        },
        "id": "RWPj6TBrlZNi",
        "outputId": "35a84cb5-b22d-45eb-f737-62a973f6e5ab"
      },
      "execution_count": 343,
      "outputs": [
        {
          "output_type": "execute_result",
          "data": {
            "text/html": [
              "\n",
              "  <div id=\"df-cd579873-8224-476b-8e03-e4dd32453ad9\">\n",
              "    <div class=\"colab-df-container\">\n",
              "      <div>\n",
              "<style scoped>\n",
              "    .dataframe tbody tr th:only-of-type {\n",
              "        vertical-align: middle;\n",
              "    }\n",
              "\n",
              "    .dataframe tbody tr th {\n",
              "        vertical-align: top;\n",
              "    }\n",
              "\n",
              "    .dataframe thead th {\n",
              "        text-align: right;\n",
              "    }\n",
              "</style>\n",
              "<table border=\"1\" class=\"dataframe\">\n",
              "  <thead>\n",
              "    <tr style=\"text-align: right;\">\n",
              "      <th></th>\n",
              "      <th>Target</th>\n",
              "    </tr>\n",
              "  </thead>\n",
              "  <tbody>\n",
              "    <tr>\n",
              "      <th>0</th>\n",
              "      <td>0</td>\n",
              "    </tr>\n",
              "    <tr>\n",
              "      <th>1</th>\n",
              "      <td>0</td>\n",
              "    </tr>\n",
              "    <tr>\n",
              "      <th>2</th>\n",
              "      <td>0</td>\n",
              "    </tr>\n",
              "    <tr>\n",
              "      <th>3</th>\n",
              "      <td>0</td>\n",
              "    </tr>\n",
              "    <tr>\n",
              "      <th>4</th>\n",
              "      <td>0</td>\n",
              "    </tr>\n",
              "    <tr>\n",
              "      <th>...</th>\n",
              "      <td>...</td>\n",
              "    </tr>\n",
              "    <tr>\n",
              "      <th>5469</th>\n",
              "      <td>4</td>\n",
              "    </tr>\n",
              "    <tr>\n",
              "      <th>5470</th>\n",
              "      <td>4</td>\n",
              "    </tr>\n",
              "    <tr>\n",
              "      <th>5471</th>\n",
              "      <td>4</td>\n",
              "    </tr>\n",
              "    <tr>\n",
              "      <th>5472</th>\n",
              "      <td>4</td>\n",
              "    </tr>\n",
              "    <tr>\n",
              "      <th>5473</th>\n",
              "      <td>4</td>\n",
              "    </tr>\n",
              "  </tbody>\n",
              "</table>\n",
              "<p>5474 rows × 1 columns</p>\n",
              "</div>\n",
              "      <button class=\"colab-df-convert\" onclick=\"convertToInteractive('df-cd579873-8224-476b-8e03-e4dd32453ad9')\"\n",
              "              title=\"Convert this dataframe to an interactive table.\"\n",
              "              style=\"display:none;\">\n",
              "        \n",
              "  <svg xmlns=\"http://www.w3.org/2000/svg\" height=\"24px\"viewBox=\"0 0 24 24\"\n",
              "       width=\"24px\">\n",
              "    <path d=\"M0 0h24v24H0V0z\" fill=\"none\"/>\n",
              "    <path d=\"M18.56 5.44l.94 2.06.94-2.06 2.06-.94-2.06-.94-.94-2.06-.94 2.06-2.06.94zm-11 1L8.5 8.5l.94-2.06 2.06-.94-2.06-.94L8.5 2.5l-.94 2.06-2.06.94zm10 10l.94 2.06.94-2.06 2.06-.94-2.06-.94-.94-2.06-.94 2.06-2.06.94z\"/><path d=\"M17.41 7.96l-1.37-1.37c-.4-.4-.92-.59-1.43-.59-.52 0-1.04.2-1.43.59L10.3 9.45l-7.72 7.72c-.78.78-.78 2.05 0 2.83L4 21.41c.39.39.9.59 1.41.59.51 0 1.02-.2 1.41-.59l7.78-7.78 2.81-2.81c.8-.78.8-2.07 0-2.86zM5.41 20L4 18.59l7.72-7.72 1.47 1.35L5.41 20z\"/>\n",
              "  </svg>\n",
              "      </button>\n",
              "      \n",
              "  <style>\n",
              "    .colab-df-container {\n",
              "      display:flex;\n",
              "      flex-wrap:wrap;\n",
              "      gap: 12px;\n",
              "    }\n",
              "\n",
              "    .colab-df-convert {\n",
              "      background-color: #E8F0FE;\n",
              "      border: none;\n",
              "      border-radius: 50%;\n",
              "      cursor: pointer;\n",
              "      display: none;\n",
              "      fill: #1967D2;\n",
              "      height: 32px;\n",
              "      padding: 0 0 0 0;\n",
              "      width: 32px;\n",
              "    }\n",
              "\n",
              "    .colab-df-convert:hover {\n",
              "      background-color: #E2EBFA;\n",
              "      box-shadow: 0px 1px 2px rgba(60, 64, 67, 0.3), 0px 1px 3px 1px rgba(60, 64, 67, 0.15);\n",
              "      fill: #174EA6;\n",
              "    }\n",
              "\n",
              "    [theme=dark] .colab-df-convert {\n",
              "      background-color: #3B4455;\n",
              "      fill: #D2E3FC;\n",
              "    }\n",
              "\n",
              "    [theme=dark] .colab-df-convert:hover {\n",
              "      background-color: #434B5C;\n",
              "      box-shadow: 0px 1px 3px 1px rgba(0, 0, 0, 0.15);\n",
              "      filter: drop-shadow(0px 1px 2px rgba(0, 0, 0, 0.3));\n",
              "      fill: #FFFFFF;\n",
              "    }\n",
              "  </style>\n",
              "\n",
              "      <script>\n",
              "        const buttonEl =\n",
              "          document.querySelector('#df-cd579873-8224-476b-8e03-e4dd32453ad9 button.colab-df-convert');\n",
              "        buttonEl.style.display =\n",
              "          google.colab.kernel.accessAllowed ? 'block' : 'none';\n",
              "\n",
              "        async function convertToInteractive(key) {\n",
              "          const element = document.querySelector('#df-cd579873-8224-476b-8e03-e4dd32453ad9');\n",
              "          const dataTable =\n",
              "            await google.colab.kernel.invokeFunction('convertToInteractive',\n",
              "                                                     [key], {});\n",
              "          if (!dataTable) return;\n",
              "\n",
              "          const docLinkHtml = 'Like what you see? Visit the ' +\n",
              "            '<a target=\"_blank\" href=https://colab.research.google.com/notebooks/data_table.ipynb>data table notebook</a>'\n",
              "            + ' to learn more about interactive tables.';\n",
              "          element.innerHTML = '';\n",
              "          dataTable['output_type'] = 'display_data';\n",
              "          await google.colab.output.renderOutput(dataTable, element);\n",
              "          const docLink = document.createElement('div');\n",
              "          docLink.innerHTML = docLinkHtml;\n",
              "          element.appendChild(docLink);\n",
              "        }\n",
              "      </script>\n",
              "    </div>\n",
              "  </div>\n",
              "  "
            ],
            "text/plain": [
              "      Target\n",
              "0          0\n",
              "1          0\n",
              "2          0\n",
              "3          0\n",
              "4          0\n",
              "...      ...\n",
              "5469       4\n",
              "5470       4\n",
              "5471       4\n",
              "5472       4\n",
              "5473       4\n",
              "\n",
              "[5474 rows x 1 columns]"
            ]
          },
          "metadata": {},
          "execution_count": 343
        }
      ]
    },
    {
      "cell_type": "code",
      "source": [
        "X[:] # checking the features"
      ],
      "metadata": {
        "colab": {
          "base_uri": "https://localhost:8080/",
          "height": 488
        },
        "id": "LBP1T8mE8WEH",
        "outputId": "e22f8d77-4043-4634-fe7d-c1c3c0f84c2b"
      },
      "execution_count": 344,
      "outputs": [
        {
          "output_type": "execute_result",
          "data": {
            "text/html": [
              "\n",
              "  <div id=\"df-86064efd-7acf-40cc-a06c-5076418ebd69\">\n",
              "    <div class=\"colab-df-container\">\n",
              "      <div>\n",
              "<style scoped>\n",
              "    .dataframe tbody tr th:only-of-type {\n",
              "        vertical-align: middle;\n",
              "    }\n",
              "\n",
              "    .dataframe tbody tr th {\n",
              "        vertical-align: top;\n",
              "    }\n",
              "\n",
              "    .dataframe thead th {\n",
              "        text-align: right;\n",
              "    }\n",
              "</style>\n",
              "<table border=\"1\" class=\"dataframe\">\n",
              "  <thead>\n",
              "    <tr style=\"text-align: right;\">\n",
              "      <th></th>\n",
              "      <th>1</th>\n",
              "      <th>2</th>\n",
              "      <th>3</th>\n",
              "      <th>4</th>\n",
              "      <th>5</th>\n",
              "      <th>6</th>\n",
              "      <th>7</th>\n",
              "      <th>8</th>\n",
              "      <th>9</th>\n",
              "      <th>10</th>\n",
              "      <th>11</th>\n",
              "      <th>12</th>\n",
              "      <th>13</th>\n",
              "      <th>14</th>\n",
              "      <th>15</th>\n",
              "      <th>16</th>\n",
              "      <th>17</th>\n",
              "      <th>18</th>\n",
              "      <th>19</th>\n",
              "      <th>20</th>\n",
              "      <th>21</th>\n",
              "    </tr>\n",
              "  </thead>\n",
              "  <tbody>\n",
              "    <tr>\n",
              "      <th>0</th>\n",
              "      <td>0.152936</td>\n",
              "      <td>-0.105586</td>\n",
              "      <td>0.200722</td>\n",
              "      <td>0.317201</td>\n",
              "      <td>0.260764</td>\n",
              "      <td>0.100945</td>\n",
              "      <td>-0.150063</td>\n",
              "      <td>-0.171128</td>\n",
              "      <td>0.124676</td>\n",
              "      <td>0.188654</td>\n",
              "      <td>-0.075622</td>\n",
              "      <td>-0.156436</td>\n",
              "      <td>0.082245</td>\n",
              "      <td>0.135752</td>\n",
              "      <td>-0.024017</td>\n",
              "      <td>-0.108351</td>\n",
              "      <td>-0.077623</td>\n",
              "      <td>-0.009568</td>\n",
              "      <td>0.057684</td>\n",
              "      <td>0.118680</td>\n",
              "      <td>0.014038</td>\n",
              "    </tr>\n",
              "    <tr>\n",
              "      <th>1</th>\n",
              "      <td>0.171534</td>\n",
              "      <td>-0.098975</td>\n",
              "      <td>0.268425</td>\n",
              "      <td>0.338672</td>\n",
              "      <td>0.268353</td>\n",
              "      <td>0.060835</td>\n",
              "      <td>-0.222475</td>\n",
              "      <td>-0.207693</td>\n",
              "      <td>0.170883</td>\n",
              "      <td>0.270958</td>\n",
              "      <td>-0.095004</td>\n",
              "      <td>-0.254341</td>\n",
              "      <td>0.022786</td>\n",
              "      <td>0.163320</td>\n",
              "      <td>0.012022</td>\n",
              "      <td>-0.090974</td>\n",
              "      <td>-0.056510</td>\n",
              "      <td>-0.035303</td>\n",
              "      <td>0.020140</td>\n",
              "      <td>0.082263</td>\n",
              "      <td>0.029056</td>\n",
              "    </tr>\n",
              "    <tr>\n",
              "      <th>2</th>\n",
              "      <td>0.152317</td>\n",
              "      <td>-0.082973</td>\n",
              "      <td>0.287128</td>\n",
              "      <td>0.276014</td>\n",
              "      <td>0.189867</td>\n",
              "      <td>0.008714</td>\n",
              "      <td>-0.242234</td>\n",
              "      <td>-0.219153</td>\n",
              "      <td>0.232538</td>\n",
              "      <td>0.266064</td>\n",
              "      <td>-0.072827</td>\n",
              "      <td>-0.237384</td>\n",
              "      <td>0.050791</td>\n",
              "      <td>0.207338</td>\n",
              "      <td>0.083536</td>\n",
              "      <td>-0.050691</td>\n",
              "      <td>-0.023590</td>\n",
              "      <td>-0.066722</td>\n",
              "      <td>-0.025083</td>\n",
              "      <td>0.099108</td>\n",
              "      <td>0.077162</td>\n",
              "    </tr>\n",
              "    <tr>\n",
              "      <th>3</th>\n",
              "      <td>0.224392</td>\n",
              "      <td>0.118985</td>\n",
              "      <td>0.329432</td>\n",
              "      <td>0.372088</td>\n",
              "      <td>0.361005</td>\n",
              "      <td>0.015501</td>\n",
              "      <td>-0.194347</td>\n",
              "      <td>-0.098181</td>\n",
              "      <td>0.270375</td>\n",
              "      <td>0.267279</td>\n",
              "      <td>-0.162258</td>\n",
              "      <td>-0.317084</td>\n",
              "      <td>-0.011567</td>\n",
              "      <td>0.100413</td>\n",
              "      <td>-0.050224</td>\n",
              "      <td>-0.136009</td>\n",
              "      <td>-0.177037</td>\n",
              "      <td>-0.130498</td>\n",
              "      <td>-0.054766</td>\n",
              "      <td>-0.018691</td>\n",
              "      <td>0.023954</td>\n",
              "    </tr>\n",
              "    <tr>\n",
              "      <th>4</th>\n",
              "      <td>0.087817</td>\n",
              "      <td>-0.068345</td>\n",
              "      <td>0.306967</td>\n",
              "      <td>0.330923</td>\n",
              "      <td>0.249144</td>\n",
              "      <td>0.006884</td>\n",
              "      <td>-0.265423</td>\n",
              "      <td>-0.172700</td>\n",
              "      <td>0.266434</td>\n",
              "      <td>0.332695</td>\n",
              "      <td>-0.100749</td>\n",
              "      <td>-0.298524</td>\n",
              "      <td>0.037439</td>\n",
              "      <td>0.219153</td>\n",
              "      <td>0.062837</td>\n",
              "      <td>-0.048885</td>\n",
              "      <td>-0.053074</td>\n",
              "      <td>-0.088550</td>\n",
              "      <td>-0.031346</td>\n",
              "      <td>0.108610</td>\n",
              "      <td>0.079244</td>\n",
              "    </tr>\n",
              "    <tr>\n",
              "      <th>...</th>\n",
              "      <td>...</td>\n",
              "      <td>...</td>\n",
              "      <td>...</td>\n",
              "      <td>...</td>\n",
              "      <td>...</td>\n",
              "      <td>...</td>\n",
              "      <td>...</td>\n",
              "      <td>...</td>\n",
              "      <td>...</td>\n",
              "      <td>...</td>\n",
              "      <td>...</td>\n",
              "      <td>...</td>\n",
              "      <td>...</td>\n",
              "      <td>...</td>\n",
              "      <td>...</td>\n",
              "      <td>...</td>\n",
              "      <td>...</td>\n",
              "      <td>...</td>\n",
              "      <td>...</td>\n",
              "      <td>...</td>\n",
              "      <td>...</td>\n",
              "    </tr>\n",
              "    <tr>\n",
              "      <th>5469</th>\n",
              "      <td>0.454285</td>\n",
              "      <td>0.528052</td>\n",
              "      <td>0.347232</td>\n",
              "      <td>-0.025295</td>\n",
              "      <td>0.163605</td>\n",
              "      <td>0.036155</td>\n",
              "      <td>0.199822</td>\n",
              "      <td>0.157373</td>\n",
              "      <td>-0.229557</td>\n",
              "      <td>-0.035979</td>\n",
              "      <td>0.334718</td>\n",
              "      <td>-0.112638</td>\n",
              "      <td>-0.184094</td>\n",
              "      <td>0.240129</td>\n",
              "      <td>0.145780</td>\n",
              "      <td>-0.141104</td>\n",
              "      <td>-0.031898</td>\n",
              "      <td>0.068993</td>\n",
              "      <td>0.100330</td>\n",
              "      <td>-0.029206</td>\n",
              "      <td>-0.195860</td>\n",
              "    </tr>\n",
              "    <tr>\n",
              "      <th>5470</th>\n",
              "      <td>0.499699</td>\n",
              "      <td>0.541278</td>\n",
              "      <td>0.347802</td>\n",
              "      <td>0.004285</td>\n",
              "      <td>0.065125</td>\n",
              "      <td>-0.018636</td>\n",
              "      <td>0.073806</td>\n",
              "      <td>0.115698</td>\n",
              "      <td>-0.186969</td>\n",
              "      <td>-0.070244</td>\n",
              "      <td>0.302870</td>\n",
              "      <td>-0.026069</td>\n",
              "      <td>-0.095201</td>\n",
              "      <td>0.165905</td>\n",
              "      <td>0.118786</td>\n",
              "      <td>-0.067359</td>\n",
              "      <td>-0.033460</td>\n",
              "      <td>0.018610</td>\n",
              "      <td>0.045389</td>\n",
              "      <td>0.028269</td>\n",
              "      <td>-0.059700</td>\n",
              "    </tr>\n",
              "    <tr>\n",
              "      <th>5471</th>\n",
              "      <td>0.513238</td>\n",
              "      <td>0.454580</td>\n",
              "      <td>0.330268</td>\n",
              "      <td>0.068541</td>\n",
              "      <td>0.140244</td>\n",
              "      <td>0.047996</td>\n",
              "      <td>0.203753</td>\n",
              "      <td>0.196982</td>\n",
              "      <td>-0.177259</td>\n",
              "      <td>-0.064948</td>\n",
              "      <td>0.321550</td>\n",
              "      <td>-0.021530</td>\n",
              "      <td>-0.227525</td>\n",
              "      <td>0.089220</td>\n",
              "      <td>0.103636</td>\n",
              "      <td>-0.124573</td>\n",
              "      <td>-0.054100</td>\n",
              "      <td>0.028137</td>\n",
              "      <td>0.061191</td>\n",
              "      <td>0.057151</td>\n",
              "      <td>-0.095740</td>\n",
              "    </tr>\n",
              "    <tr>\n",
              "      <th>5472</th>\n",
              "      <td>0.428682</td>\n",
              "      <td>0.468821</td>\n",
              "      <td>0.391787</td>\n",
              "      <td>0.098071</td>\n",
              "      <td>0.157278</td>\n",
              "      <td>0.029464</td>\n",
              "      <td>0.092224</td>\n",
              "      <td>0.128838</td>\n",
              "      <td>-0.164522</td>\n",
              "      <td>-0.070393</td>\n",
              "      <td>0.227975</td>\n",
              "      <td>-0.003847</td>\n",
              "      <td>-0.101297</td>\n",
              "      <td>0.153508</td>\n",
              "      <td>0.058488</td>\n",
              "      <td>-0.097446</td>\n",
              "      <td>-0.014492</td>\n",
              "      <td>-0.009130</td>\n",
              "      <td>0.060755</td>\n",
              "      <td>0.023273</td>\n",
              "      <td>-0.138813</td>\n",
              "    </tr>\n",
              "    <tr>\n",
              "      <th>5473</th>\n",
              "      <td>0.489248</td>\n",
              "      <td>0.546315</td>\n",
              "      <td>0.380019</td>\n",
              "      <td>0.040418</td>\n",
              "      <td>0.129408</td>\n",
              "      <td>0.029151</td>\n",
              "      <td>0.152284</td>\n",
              "      <td>0.134625</td>\n",
              "      <td>-0.174506</td>\n",
              "      <td>-0.076241</td>\n",
              "      <td>0.267369</td>\n",
              "      <td>-0.041715</td>\n",
              "      <td>-0.131894</td>\n",
              "      <td>0.159572</td>\n",
              "      <td>0.096477</td>\n",
              "      <td>-0.144728</td>\n",
              "      <td>-0.085889</td>\n",
              "      <td>-0.032794</td>\n",
              "      <td>0.017766</td>\n",
              "      <td>0.027478</td>\n",
              "      <td>-0.076355</td>\n",
              "    </tr>\n",
              "  </tbody>\n",
              "</table>\n",
              "<p>5474 rows × 21 columns</p>\n",
              "</div>\n",
              "      <button class=\"colab-df-convert\" onclick=\"convertToInteractive('df-86064efd-7acf-40cc-a06c-5076418ebd69')\"\n",
              "              title=\"Convert this dataframe to an interactive table.\"\n",
              "              style=\"display:none;\">\n",
              "        \n",
              "  <svg xmlns=\"http://www.w3.org/2000/svg\" height=\"24px\"viewBox=\"0 0 24 24\"\n",
              "       width=\"24px\">\n",
              "    <path d=\"M0 0h24v24H0V0z\" fill=\"none\"/>\n",
              "    <path d=\"M18.56 5.44l.94 2.06.94-2.06 2.06-.94-2.06-.94-.94-2.06-.94 2.06-2.06.94zm-11 1L8.5 8.5l.94-2.06 2.06-.94-2.06-.94L8.5 2.5l-.94 2.06-2.06.94zm10 10l.94 2.06.94-2.06 2.06-.94-2.06-.94-.94-2.06-.94 2.06-2.06.94z\"/><path d=\"M17.41 7.96l-1.37-1.37c-.4-.4-.92-.59-1.43-.59-.52 0-1.04.2-1.43.59L10.3 9.45l-7.72 7.72c-.78.78-.78 2.05 0 2.83L4 21.41c.39.39.9.59 1.41.59.51 0 1.02-.2 1.41-.59l7.78-7.78 2.81-2.81c.8-.78.8-2.07 0-2.86zM5.41 20L4 18.59l7.72-7.72 1.47 1.35L5.41 20z\"/>\n",
              "  </svg>\n",
              "      </button>\n",
              "      \n",
              "  <style>\n",
              "    .colab-df-container {\n",
              "      display:flex;\n",
              "      flex-wrap:wrap;\n",
              "      gap: 12px;\n",
              "    }\n",
              "\n",
              "    .colab-df-convert {\n",
              "      background-color: #E8F0FE;\n",
              "      border: none;\n",
              "      border-radius: 50%;\n",
              "      cursor: pointer;\n",
              "      display: none;\n",
              "      fill: #1967D2;\n",
              "      height: 32px;\n",
              "      padding: 0 0 0 0;\n",
              "      width: 32px;\n",
              "    }\n",
              "\n",
              "    .colab-df-convert:hover {\n",
              "      background-color: #E2EBFA;\n",
              "      box-shadow: 0px 1px 2px rgba(60, 64, 67, 0.3), 0px 1px 3px 1px rgba(60, 64, 67, 0.15);\n",
              "      fill: #174EA6;\n",
              "    }\n",
              "\n",
              "    [theme=dark] .colab-df-convert {\n",
              "      background-color: #3B4455;\n",
              "      fill: #D2E3FC;\n",
              "    }\n",
              "\n",
              "    [theme=dark] .colab-df-convert:hover {\n",
              "      background-color: #434B5C;\n",
              "      box-shadow: 0px 1px 3px 1px rgba(0, 0, 0, 0.15);\n",
              "      filter: drop-shadow(0px 1px 2px rgba(0, 0, 0, 0.3));\n",
              "      fill: #FFFFFF;\n",
              "    }\n",
              "  </style>\n",
              "\n",
              "      <script>\n",
              "        const buttonEl =\n",
              "          document.querySelector('#df-86064efd-7acf-40cc-a06c-5076418ebd69 button.colab-df-convert');\n",
              "        buttonEl.style.display =\n",
              "          google.colab.kernel.accessAllowed ? 'block' : 'none';\n",
              "\n",
              "        async function convertToInteractive(key) {\n",
              "          const element = document.querySelector('#df-86064efd-7acf-40cc-a06c-5076418ebd69');\n",
              "          const dataTable =\n",
              "            await google.colab.kernel.invokeFunction('convertToInteractive',\n",
              "                                                     [key], {});\n",
              "          if (!dataTable) return;\n",
              "\n",
              "          const docLinkHtml = 'Like what you see? Visit the ' +\n",
              "            '<a target=\"_blank\" href=https://colab.research.google.com/notebooks/data_table.ipynb>data table notebook</a>'\n",
              "            + ' to learn more about interactive tables.';\n",
              "          element.innerHTML = '';\n",
              "          dataTable['output_type'] = 'display_data';\n",
              "          await google.colab.output.renderOutput(dataTable, element);\n",
              "          const docLink = document.createElement('div');\n",
              "          docLink.innerHTML = docLinkHtml;\n",
              "          element.appendChild(docLink);\n",
              "        }\n",
              "      </script>\n",
              "    </div>\n",
              "  </div>\n",
              "  "
            ],
            "text/plain": [
              "             1         2         3  ...        19        20        21\n",
              "0     0.152936 -0.105586  0.200722  ...  0.057684  0.118680  0.014038\n",
              "1     0.171534 -0.098975  0.268425  ...  0.020140  0.082263  0.029056\n",
              "2     0.152317 -0.082973  0.287128  ... -0.025083  0.099108  0.077162\n",
              "3     0.224392  0.118985  0.329432  ... -0.054766 -0.018691  0.023954\n",
              "4     0.087817 -0.068345  0.306967  ... -0.031346  0.108610  0.079244\n",
              "...        ...       ...       ...  ...       ...       ...       ...\n",
              "5469  0.454285  0.528052  0.347232  ...  0.100330 -0.029206 -0.195860\n",
              "5470  0.499699  0.541278  0.347802  ...  0.045389  0.028269 -0.059700\n",
              "5471  0.513238  0.454580  0.330268  ...  0.061191  0.057151 -0.095740\n",
              "5472  0.428682  0.468821  0.391787  ...  0.060755  0.023273 -0.138813\n",
              "5473  0.489248  0.546315  0.380019  ...  0.017766  0.027478 -0.076355\n",
              "\n",
              "[5474 rows x 21 columns]"
            ]
          },
          "metadata": {},
          "execution_count": 344
        }
      ]
    },
    {
      "cell_type": "markdown",
      "source": [
        "## Checking the data"
      ],
      "metadata": {
        "id": "1rWtTmq_CxVo"
      }
    },
    {
      "cell_type": "code",
      "source": [
        "ax = sns.countplot(x=\"Target\",data=Y) # plot of data classes"
      ],
      "metadata": {
        "colab": {
          "base_uri": "https://localhost:8080/",
          "height": 279
        },
        "id": "XOGpsWczlu8Q",
        "outputId": "fbd18afb-f094-445d-9025-0f4197312f7c"
      },
      "execution_count": 345,
      "outputs": [
        {
          "output_type": "display_data",
          "data": {
            "image/png": "[encoded data removed]",
            "text/plain": [
              "<Figure size 432x288 with 1 Axes>"
            ]
          },
          "metadata": {
            "needs_background": "light"
          }
        }
      ]
    },
    {
      "cell_type": "markdown",
      "source": [
        "## Resampling the data(Undersampling class 2 )"
      ],
      "metadata": {
        "id": "SBN9kQCtHdCE"
      }
    },
    {
      "cell_type": "code",
      "source": [
        "w={0:672,1:542,2:900,3:310,4:472} # create dict to use for undersampling class 2\n",
        "undersample = RandomUnderSampler(sampling_strategy =w) # undersample strategy\n",
        "x_1, y_1 = undersample.fit_resample(X,Y) # undersample"
      ],
      "metadata": {
        "id": "dF2jL75IHqLV"
      },
      "execution_count": 346,
      "outputs": []
    },
    {
      "cell_type": "code",
      "source": [
        "ax = sns.countplot(x=\"Target\",data=y_1) # plot data class count after undersampling"
      ],
      "metadata": {
        "id": "YhpgKa3LHww0",
        "colab": {
          "base_uri": "https://localhost:8080/",
          "height": 279
        },
        "outputId": "7dfa9355-8f11-424a-caf9-975ea6c98983"
      },
      "execution_count": 347,
      "outputs": [
        {
          "output_type": "display_data",
          "data": {
            "image/png": "[encoded data removed]",
            "text/plain": [
              "<Figure size 432x288 with 1 Axes>"
            ]
          },
          "metadata": {
            "needs_background": "light"
          }
        }
      ]
    },
    {
      "cell_type": "markdown",
      "source": [
        "I undersample class 2 from 3500 to 900 because having oversampled class 2 making giving me a fault high percentage , deceasing class 2 helps improve this"
      ],
      "metadata": {
        "id": "kG9cbBSwvgL8"
      }
    },
    {
      "cell_type": "markdown",
      "source": [
        "## Splitng data into train and test"
      ],
      "metadata": {
        "id": "uIwymlO8Ugpg"
      }
    },
    {
      "cell_type": "code",
      "source": [
        "x_train, x_test, y_train, y_test = train_test_split(x_1, y_1, test_size=0.25, random_state=1) # spliting data"
      ],
      "metadata": {
        "id": "gKYRn00UjxcG"
      },
      "execution_count": 348,
      "outputs": []
    },
    {
      "cell_type": "markdown",
      "source": [
        "## Checking the different classes of data"
      ],
      "metadata": {
        "id": "TADe8wAclIkR"
      }
    },
    {
      "cell_type": "code",
      "source": [
        "classes = np.unique(y_train) # checking different classes \n",
        "nClasses = len(classes) # \n",
        "print('Total number of outputs : ', nClasses)\n",
        "print('Output classes : ', classes)"
      ],
      "metadata": {
        "colab": {
          "base_uri": "https://localhost:8080/"
        },
        "id": "j8his_lqlI6r",
        "outputId": "440c147f-17a9-4211-f646-02044efeda59"
      },
      "execution_count": 349,
      "outputs": [
        {
          "output_type": "stream",
          "name": "stdout",
          "text": [
            "Total number of outputs :  5\n",
            "Output classes :  [0 1 2 3 4]\n"
          ]
        }
      ]
    },
    {
      "cell_type": "markdown",
      "source": [
        "## Checking data after spliting"
      ],
      "metadata": {
        "id": "9q97eKY8H3To"
      }
    },
    {
      "cell_type": "code",
      "source": [
        "x_train # checking x train "
      ],
      "metadata": {
        "colab": {
          "base_uri": "https://localhost:8080/",
          "height": 488
        },
        "id": "814oojumAQXA",
        "outputId": "c186f444-e76c-49bb-8fa0-9ef7ac4f465a"
      },
      "execution_count": 350,
      "outputs": [
        {
          "output_type": "execute_result",
          "data": {
            "text/html": [
              "\n",
              "  <div id=\"df-88c9e273-23c8-4cfc-aee4-aa2618a22dbb\">\n",
              "    <div class=\"colab-df-container\">\n",
              "      <div>\n",
              "<style scoped>\n",
              "    .dataframe tbody tr th:only-of-type {\n",
              "        vertical-align: middle;\n",
              "    }\n",
              "\n",
              "    .dataframe tbody tr th {\n",
              "        vertical-align: top;\n",
              "    }\n",
              "\n",
              "    .dataframe thead th {\n",
              "        text-align: right;\n",
              "    }\n",
              "</style>\n",
              "<table border=\"1\" class=\"dataframe\">\n",
              "  <thead>\n",
              "    <tr style=\"text-align: right;\">\n",
              "      <th></th>\n",
              "      <th>1</th>\n",
              "      <th>2</th>\n",
              "      <th>3</th>\n",
              "      <th>4</th>\n",
              "      <th>5</th>\n",
              "      <th>6</th>\n",
              "      <th>7</th>\n",
              "      <th>8</th>\n",
              "      <th>9</th>\n",
              "      <th>10</th>\n",
              "      <th>11</th>\n",
              "      <th>12</th>\n",
              "      <th>13</th>\n",
              "      <th>14</th>\n",
              "      <th>15</th>\n",
              "      <th>16</th>\n",
              "      <th>17</th>\n",
              "      <th>18</th>\n",
              "      <th>19</th>\n",
              "      <th>20</th>\n",
              "      <th>21</th>\n",
              "    </tr>\n",
              "  </thead>\n",
              "  <tbody>\n",
              "    <tr>\n",
              "      <th>2146</th>\n",
              "      <td>-0.122689</td>\n",
              "      <td>-0.108091</td>\n",
              "      <td>0.459278</td>\n",
              "      <td>0.324847</td>\n",
              "      <td>0.082324</td>\n",
              "      <td>0.021403</td>\n",
              "      <td>-0.046580</td>\n",
              "      <td>-0.020927</td>\n",
              "      <td>0.188985</td>\n",
              "      <td>0.087926</td>\n",
              "      <td>-0.197714</td>\n",
              "      <td>-0.111859</td>\n",
              "      <td>0.224716</td>\n",
              "      <td>0.187511</td>\n",
              "      <td>-0.069593</td>\n",
              "      <td>-0.143951</td>\n",
              "      <td>-0.030810</td>\n",
              "      <td>0.063506</td>\n",
              "      <td>0.113256</td>\n",
              "      <td>0.097072</td>\n",
              "      <td>-0.016272</td>\n",
              "    </tr>\n",
              "    <tr>\n",
              "      <th>1673</th>\n",
              "      <td>0.154098</td>\n",
              "      <td>0.190572</td>\n",
              "      <td>0.620477</td>\n",
              "      <td>0.281384</td>\n",
              "      <td>0.050890</td>\n",
              "      <td>-0.141847</td>\n",
              "      <td>0.005336</td>\n",
              "      <td>0.215225</td>\n",
              "      <td>-0.020324</td>\n",
              "      <td>-0.215157</td>\n",
              "      <td>0.130223</td>\n",
              "      <td>0.194686</td>\n",
              "      <td>-0.234842</td>\n",
              "      <td>-0.148398</td>\n",
              "      <td>0.247727</td>\n",
              "      <td>0.224171</td>\n",
              "      <td>-0.067433</td>\n",
              "      <td>-0.171925</td>\n",
              "      <td>-0.115284</td>\n",
              "      <td>0.102244</td>\n",
              "      <td>0.200412</td>\n",
              "    </tr>\n",
              "    <tr>\n",
              "      <th>2097</th>\n",
              "      <td>0.368272</td>\n",
              "      <td>0.303253</td>\n",
              "      <td>0.514853</td>\n",
              "      <td>0.177621</td>\n",
              "      <td>0.012508</td>\n",
              "      <td>-0.119172</td>\n",
              "      <td>0.004810</td>\n",
              "      <td>0.272645</td>\n",
              "      <td>0.024771</td>\n",
              "      <td>-0.324513</td>\n",
              "      <td>0.035810</td>\n",
              "      <td>0.299441</td>\n",
              "      <td>-0.126011</td>\n",
              "      <td>-0.269624</td>\n",
              "      <td>0.089161</td>\n",
              "      <td>0.205210</td>\n",
              "      <td>-0.001569</td>\n",
              "      <td>-0.058651</td>\n",
              "      <td>-0.115110</td>\n",
              "      <td>0.027263</td>\n",
              "      <td>0.155777</td>\n",
              "    </tr>\n",
              "    <tr>\n",
              "      <th>2480</th>\n",
              "      <td>0.748015</td>\n",
              "      <td>0.850014</td>\n",
              "      <td>0.409485</td>\n",
              "      <td>-0.050474</td>\n",
              "      <td>0.202607</td>\n",
              "      <td>0.009474</td>\n",
              "      <td>-0.037339</td>\n",
              "      <td>0.131029</td>\n",
              "      <td>-0.218542</td>\n",
              "      <td>-0.015965</td>\n",
              "      <td>0.316906</td>\n",
              "      <td>-0.129844</td>\n",
              "      <td>-0.185656</td>\n",
              "      <td>0.201886</td>\n",
              "      <td>0.028376</td>\n",
              "      <td>-0.143642</td>\n",
              "      <td>0.062813</td>\n",
              "      <td>0.093326</td>\n",
              "      <td>0.092764</td>\n",
              "      <td>0.043794</td>\n",
              "      <td>-0.037266</td>\n",
              "    </tr>\n",
              "    <tr>\n",
              "      <th>1790</th>\n",
              "      <td>0.301820</td>\n",
              "      <td>0.299521</td>\n",
              "      <td>0.570954</td>\n",
              "      <td>0.183203</td>\n",
              "      <td>0.072869</td>\n",
              "      <td>-0.076704</td>\n",
              "      <td>0.004918</td>\n",
              "      <td>0.207186</td>\n",
              "      <td>0.002290</td>\n",
              "      <td>-0.260925</td>\n",
              "      <td>0.127553</td>\n",
              "      <td>0.381763</td>\n",
              "      <td>-0.122591</td>\n",
              "      <td>-0.245886</td>\n",
              "      <td>0.146648</td>\n",
              "      <td>0.205198</td>\n",
              "      <td>-0.032448</td>\n",
              "      <td>-0.098426</td>\n",
              "      <td>-0.109385</td>\n",
              "      <td>0.071605</td>\n",
              "      <td>0.183288</td>\n",
              "    </tr>\n",
              "    <tr>\n",
              "      <th>...</th>\n",
              "      <td>...</td>\n",
              "      <td>...</td>\n",
              "      <td>...</td>\n",
              "      <td>...</td>\n",
              "      <td>...</td>\n",
              "      <td>...</td>\n",
              "      <td>...</td>\n",
              "      <td>...</td>\n",
              "      <td>...</td>\n",
              "      <td>...</td>\n",
              "      <td>...</td>\n",
              "      <td>...</td>\n",
              "      <td>...</td>\n",
              "      <td>...</td>\n",
              "      <td>...</td>\n",
              "      <td>...</td>\n",
              "      <td>...</td>\n",
              "      <td>...</td>\n",
              "      <td>...</td>\n",
              "      <td>...</td>\n",
              "      <td>...</td>\n",
              "    </tr>\n",
              "    <tr>\n",
              "      <th>2763</th>\n",
              "      <td>0.654525</td>\n",
              "      <td>0.614626</td>\n",
              "      <td>0.347933</td>\n",
              "      <td>-0.010778</td>\n",
              "      <td>0.129369</td>\n",
              "      <td>-0.010043</td>\n",
              "      <td>0.165358</td>\n",
              "      <td>0.232305</td>\n",
              "      <td>-0.193009</td>\n",
              "      <td>0.040046</td>\n",
              "      <td>0.418199</td>\n",
              "      <td>-0.091514</td>\n",
              "      <td>-0.188299</td>\n",
              "      <td>0.189963</td>\n",
              "      <td>0.020358</td>\n",
              "      <td>-0.167696</td>\n",
              "      <td>-0.047113</td>\n",
              "      <td>-0.035929</td>\n",
              "      <td>0.046322</td>\n",
              "      <td>0.006517</td>\n",
              "      <td>-0.141355</td>\n",
              "    </tr>\n",
              "    <tr>\n",
              "      <th>905</th>\n",
              "      <td>0.414315</td>\n",
              "      <td>0.274445</td>\n",
              "      <td>0.399073</td>\n",
              "      <td>0.094667</td>\n",
              "      <td>0.044919</td>\n",
              "      <td>0.115003</td>\n",
              "      <td>0.004487</td>\n",
              "      <td>-0.140676</td>\n",
              "      <td>0.015485</td>\n",
              "      <td>0.169606</td>\n",
              "      <td>-0.049158</td>\n",
              "      <td>-0.226537</td>\n",
              "      <td>0.136871</td>\n",
              "      <td>0.110162</td>\n",
              "      <td>-0.155411</td>\n",
              "      <td>-0.096111</td>\n",
              "      <td>0.056908</td>\n",
              "      <td>-0.018736</td>\n",
              "      <td>-0.094073</td>\n",
              "      <td>-0.024367</td>\n",
              "      <td>0.021566</td>\n",
              "    </tr>\n",
              "    <tr>\n",
              "      <th>1096</th>\n",
              "      <td>0.332626</td>\n",
              "      <td>0.151965</td>\n",
              "      <td>0.348874</td>\n",
              "      <td>0.087642</td>\n",
              "      <td>0.019653</td>\n",
              "      <td>0.076256</td>\n",
              "      <td>-0.000327</td>\n",
              "      <td>-0.048015</td>\n",
              "      <td>0.066553</td>\n",
              "      <td>0.135761</td>\n",
              "      <td>-0.074380</td>\n",
              "      <td>-0.182271</td>\n",
              "      <td>0.138697</td>\n",
              "      <td>0.198772</td>\n",
              "      <td>-0.064840</td>\n",
              "      <td>-0.066783</td>\n",
              "      <td>0.054513</td>\n",
              "      <td>-0.030771</td>\n",
              "      <td>-0.098311</td>\n",
              "      <td>-0.014890</td>\n",
              "      <td>-0.018031</td>\n",
              "    </tr>\n",
              "    <tr>\n",
              "      <th>235</th>\n",
              "      <td>0.339049</td>\n",
              "      <td>-0.001276</td>\n",
              "      <td>0.075088</td>\n",
              "      <td>0.298091</td>\n",
              "      <td>0.190639</td>\n",
              "      <td>0.022295</td>\n",
              "      <td>0.049216</td>\n",
              "      <td>0.175380</td>\n",
              "      <td>-0.007751</td>\n",
              "      <td>-0.252298</td>\n",
              "      <td>-0.198813</td>\n",
              "      <td>0.198647</td>\n",
              "      <td>0.445917</td>\n",
              "      <td>0.249543</td>\n",
              "      <td>-0.161598</td>\n",
              "      <td>-0.299407</td>\n",
              "      <td>-0.121592</td>\n",
              "      <td>0.108062</td>\n",
              "      <td>0.124870</td>\n",
              "      <td>-0.004888</td>\n",
              "      <td>-0.040086</td>\n",
              "    </tr>\n",
              "    <tr>\n",
              "      <th>1061</th>\n",
              "      <td>0.360300</td>\n",
              "      <td>0.153769</td>\n",
              "      <td>0.301223</td>\n",
              "      <td>0.112890</td>\n",
              "      <td>0.115783</td>\n",
              "      <td>0.174303</td>\n",
              "      <td>-0.030906</td>\n",
              "      <td>-0.137851</td>\n",
              "      <td>-0.016159</td>\n",
              "      <td>0.126173</td>\n",
              "      <td>-0.094108</td>\n",
              "      <td>-0.246339</td>\n",
              "      <td>0.091514</td>\n",
              "      <td>0.201659</td>\n",
              "      <td>-0.138809</td>\n",
              "      <td>-0.146679</td>\n",
              "      <td>0.070039</td>\n",
              "      <td>0.040459</td>\n",
              "      <td>-0.023083</td>\n",
              "      <td>-0.032811</td>\n",
              "      <td>-0.074982</td>\n",
              "    </tr>\n",
              "  </tbody>\n",
              "</table>\n",
              "<p>2172 rows × 21 columns</p>\n",
              "</div>\n",
              "      <button class=\"colab-df-convert\" onclick=\"convertToInteractive('df-88c9e273-23c8-4cfc-aee4-aa2618a22dbb')\"\n",
              "              title=\"Convert this dataframe to an interactive table.\"\n",
              "              style=\"display:none;\">\n",
              "        \n",
              "  <svg xmlns=\"http://www.w3.org/2000/svg\" height=\"24px\"viewBox=\"0 0 24 24\"\n",
              "       width=\"24px\">\n",
              "    <path d=\"M0 0h24v24H0V0z\" fill=\"none\"/>\n",
              "    <path d=\"M18.56 5.44l.94 2.06.94-2.06 2.06-.94-2.06-.94-.94-2.06-.94 2.06-2.06.94zm-11 1L8.5 8.5l.94-2.06 2.06-.94-2.06-.94L8.5 2.5l-.94 2.06-2.06.94zm10 10l.94 2.06.94-2.06 2.06-.94-2.06-.94-.94-2.06-.94 2.06-2.06.94z\"/><path d=\"M17.41 7.96l-1.37-1.37c-.4-.4-.92-.59-1.43-.59-.52 0-1.04.2-1.43.59L10.3 9.45l-7.72 7.72c-.78.78-.78 2.05 0 2.83L4 21.41c.39.39.9.59 1.41.59.51 0 1.02-.2 1.41-.59l7.78-7.78 2.81-2.81c.8-.78.8-2.07 0-2.86zM5.41 20L4 18.59l7.72-7.72 1.47 1.35L5.41 20z\"/>\n",
              "  </svg>\n",
              "      </button>\n",
              "      \n",
              "  <style>\n",
              "    .colab-df-container {\n",
              "      display:flex;\n",
              "      flex-wrap:wrap;\n",
              "      gap: 12px;\n",
              "    }\n",
              "\n",
              "    .colab-df-convert {\n",
              "      background-color: #E8F0FE;\n",
              "      border: none;\n",
              "      border-radius: 50%;\n",
              "      cursor: pointer;\n",
              "      display: none;\n",
              "      fill: #1967D2;\n",
              "      height: 32px;\n",
              "      padding: 0 0 0 0;\n",
              "      width: 32px;\n",
              "    }\n",
              "\n",
              "    .colab-df-convert:hover {\n",
              "      background-color: #E2EBFA;\n",
              "      box-shadow: 0px 1px 2px rgba(60, 64, 67, 0.3), 0px 1px 3px 1px rgba(60, 64, 67, 0.15);\n",
              "      fill: #174EA6;\n",
              "    }\n",
              "\n",
              "    [theme=dark] .colab-df-convert {\n",
              "      background-color: #3B4455;\n",
              "      fill: #D2E3FC;\n",
              "    }\n",
              "\n",
              "    [theme=dark] .colab-df-convert:hover {\n",
              "      background-color: #434B5C;\n",
              "      box-shadow: 0px 1px 3px 1px rgba(0, 0, 0, 0.15);\n",
              "      filter: drop-shadow(0px 1px 2px rgba(0, 0, 0, 0.3));\n",
              "      fill: #FFFFFF;\n",
              "    }\n",
              "  </style>\n",
              "\n",
              "      <script>\n",
              "        const buttonEl =\n",
              "          document.querySelector('#df-88c9e273-23c8-4cfc-aee4-aa2618a22dbb button.colab-df-convert');\n",
              "        buttonEl.style.display =\n",
              "          google.colab.kernel.accessAllowed ? 'block' : 'none';\n",
              "\n",
              "        async function convertToInteractive(key) {\n",
              "          const element = document.querySelector('#df-88c9e273-23c8-4cfc-aee4-aa2618a22dbb');\n",
              "          const dataTable =\n",
              "            await google.colab.kernel.invokeFunction('convertToInteractive',\n",
              "                                                     [key], {});\n",
              "          if (!dataTable) return;\n",
              "\n",
              "          const docLinkHtml = 'Like what you see? Visit the ' +\n",
              "            '<a target=\"_blank\" href=https://colab.research.google.com/notebooks/data_table.ipynb>data table notebook</a>'\n",
              "            + ' to learn more about interactive tables.';\n",
              "          element.innerHTML = '';\n",
              "          dataTable['output_type'] = 'display_data';\n",
              "          await google.colab.output.renderOutput(dataTable, element);\n",
              "          const docLink = document.createElement('div');\n",
              "          docLink.innerHTML = docLinkHtml;\n",
              "          element.appendChild(docLink);\n",
              "        }\n",
              "      </script>\n",
              "    </div>\n",
              "  </div>\n",
              "  "
            ],
            "text/plain": [
              "             1         2         3  ...        19        20        21\n",
              "2146 -0.122689 -0.108091  0.459278  ...  0.113256  0.097072 -0.016272\n",
              "1673  0.154098  0.190572  0.620477  ... -0.115284  0.102244  0.200412\n",
              "2097  0.368272  0.303253  0.514853  ... -0.115110  0.027263  0.155777\n",
              "2480  0.748015  0.850014  0.409485  ...  0.092764  0.043794 -0.037266\n",
              "1790  0.301820  0.299521  0.570954  ... -0.109385  0.071605  0.183288\n",
              "...        ...       ...       ...  ...       ...       ...       ...\n",
              "2763  0.654525  0.614626  0.347933  ...  0.046322  0.006517 -0.141355\n",
              "905   0.414315  0.274445  0.399073  ... -0.094073 -0.024367  0.021566\n",
              "1096  0.332626  0.151965  0.348874  ... -0.098311 -0.014890 -0.018031\n",
              "235   0.339049 -0.001276  0.075088  ...  0.124870 -0.004888 -0.040086\n",
              "1061  0.360300  0.153769  0.301223  ... -0.023083 -0.032811 -0.074982\n",
              "\n",
              "[2172 rows x 21 columns]"
            ]
          },
          "metadata": {},
          "execution_count": 350
        }
      ]
    },
    {
      "cell_type": "markdown",
      "source": [
        "## checking maximum"
      ],
      "metadata": {
        "id": "ysvpdn9TTFZE"
      }
    },
    {
      "cell_type": "code",
      "source": [
        "np.max(x_train)"
      ],
      "metadata": {
        "id": "c53So5y0CuQE",
        "colab": {
          "base_uri": "https://localhost:8080/"
        },
        "outputId": "7619d092-d1c7-419e-ef6a-f40bf95f4813"
      },
      "execution_count": 351,
      "outputs": [
        {
          "output_type": "execute_result",
          "data": {
            "text/plain": [
              "1     1.000000\n",
              "2     1.000000\n",
              "3     1.000000\n",
              "4     0.752246\n",
              "5     0.579032\n",
              "6     0.696887\n",
              "7     0.551762\n",
              "8     0.642738\n",
              "9     0.478224\n",
              "10    0.523033\n",
              "11    0.669470\n",
              "12    0.945710\n",
              "13    0.566873\n",
              "14    0.668924\n",
              "15    0.493691\n",
              "16    0.432527\n",
              "17    0.614064\n",
              "18    0.388499\n",
              "19    0.306126\n",
              "20    0.389797\n",
              "21    0.432207\n",
              "dtype: float64"
            ]
          },
          "metadata": {},
          "execution_count": 351
        }
      ]
    },
    {
      "cell_type": "markdown",
      "source": [
        "##Convert from categorical labels to one-hot encoded vectors"
      ],
      "metadata": {
        "id": "AMonQIAFSUgH"
      }
    },
    {
      "cell_type": "code",
      "source": [
        "y_train = np_utils.to_categorical(y_train) # one hot encoding on both y train and y test\n",
        "y_test = np_utils.to_categorical(y_test)"
      ],
      "metadata": {
        "id": "lWX6kmVws_D0"
      },
      "execution_count": 352,
      "outputs": []
    },
    {
      "cell_type": "markdown",
      "source": [
        "## Checking data after one hot encoded"
      ],
      "metadata": {
        "id": "USp-um42mQqC"
      }
    },
    {
      "cell_type": "code",
      "source": [
        "y_train # check y train"
      ],
      "metadata": {
        "colab": {
          "base_uri": "https://localhost:8080/"
        },
        "id": "n49kFbVNpjVW",
        "outputId": "90206147-3e4f-4f46-fbb5-fdd2db955ff2"
      },
      "execution_count": 353,
      "outputs": [
        {
          "output_type": "execute_result",
          "data": {
            "text/plain": [
              "array([[0., 0., 0., 1., 0.],\n",
              "       [0., 0., 1., 0., 0.],\n",
              "       [0., 0., 1., 0., 0.],\n",
              "       ...,\n",
              "       [0., 1., 0., 0., 0.],\n",
              "       [1., 0., 0., 0., 0.],\n",
              "       [0., 1., 0., 0., 0.]], dtype=float32)"
            ]
          },
          "metadata": {},
          "execution_count": 353
        }
      ]
    },
    {
      "cell_type": "code",
      "source": [
        "y_test # check y test "
      ],
      "metadata": {
        "colab": {
          "base_uri": "https://localhost:8080/"
        },
        "id": "Cwg8a856pucR",
        "outputId": "84fffa59-dc64-4537-b7fd-6eb3134bfc34"
      },
      "execution_count": 354,
      "outputs": [
        {
          "output_type": "execute_result",
          "data": {
            "text/plain": [
              "array([[0., 0., 0., 1., 0.],\n",
              "       [0., 0., 1., 0., 0.],\n",
              "       [0., 0., 1., 0., 0.],\n",
              "       ...,\n",
              "       [0., 0., 1., 0., 0.],\n",
              "       [1., 0., 0., 0., 0.],\n",
              "       [0., 0., 1., 0., 0.]], dtype=float32)"
            ]
          },
          "metadata": {},
          "execution_count": 354
        }
      ]
    },
    {
      "cell_type": "markdown",
      "source": [
        "# creating validation data"
      ],
      "metadata": {
        "id": "4TBrUAoDSD7C"
      }
    },
    {
      "cell_type": "code",
      "source": [
        "x_train, x_val, y_train, y_val = train_test_split(x_train, y_train, test_size=0.3,random_state=1) # spliting into validation data "
      ],
      "metadata": {
        "id": "xeCkwsNeqohT"
      },
      "execution_count": 355,
      "outputs": []
    },
    {
      "cell_type": "markdown",
      "source": [
        "# Checking the shape after making validation data"
      ],
      "metadata": {
        "id": "h54Av7rYR5-U"
      }
    },
    {
      "cell_type": "code",
      "source": [
        "x_train.shape"
      ],
      "metadata": {
        "colab": {
          "base_uri": "https://localhost:8080/"
        },
        "id": "jFaTQa8TuAIR",
        "outputId": "7250c36f-5244-460d-b72c-a883ba70b3ca"
      },
      "execution_count": 356,
      "outputs": [
        {
          "output_type": "execute_result",
          "data": {
            "text/plain": [
              "(1520, 21)"
            ]
          },
          "metadata": {},
          "execution_count": 356
        }
      ]
    },
    {
      "cell_type": "code",
      "source": [
        "x_test.shape"
      ],
      "metadata": {
        "colab": {
          "base_uri": "https://localhost:8080/"
        },
        "id": "zC28NcjOwLso",
        "outputId": "c4ccf979-3f55-4624-b482-c0fb6e6de12d"
      },
      "execution_count": 357,
      "outputs": [
        {
          "output_type": "execute_result",
          "data": {
            "text/plain": [
              "(724, 21)"
            ]
          },
          "metadata": {},
          "execution_count": 357
        }
      ]
    },
    {
      "cell_type": "code",
      "source": [
        "y_test.shape"
      ],
      "metadata": {
        "colab": {
          "base_uri": "https://localhost:8080/"
        },
        "id": "QXbnCqVgwPdD",
        "outputId": "d07bce68-acd9-46ca-8c44-5d7bf80b9f5a"
      },
      "execution_count": 358,
      "outputs": [
        {
          "output_type": "execute_result",
          "data": {
            "text/plain": [
              "(724, 5)"
            ]
          },
          "metadata": {},
          "execution_count": 358
        }
      ]
    },
    {
      "cell_type": "code",
      "source": [
        "y_train.shape"
      ],
      "metadata": {
        "colab": {
          "base_uri": "https://localhost:8080/"
        },
        "id": "W34i4M_lwThh",
        "outputId": "4e97b867-f55b-4f64-9027-cee6e278b1d5"
      },
      "execution_count": 359,
      "outputs": [
        {
          "output_type": "execute_result",
          "data": {
            "text/plain": [
              "(1520, 5)"
            ]
          },
          "metadata": {},
          "execution_count": 359
        }
      ]
    },
    {
      "cell_type": "code",
      "source": [
        "x_val.shape"
      ],
      "metadata": {
        "colab": {
          "base_uri": "https://localhost:8080/"
        },
        "id": "eCR-AuMR0QeJ",
        "outputId": "523c57d1-80ab-4714-8de4-66753795e0b2"
      },
      "execution_count": 360,
      "outputs": [
        {
          "output_type": "execute_result",
          "data": {
            "text/plain": [
              "(652, 21)"
            ]
          },
          "metadata": {},
          "execution_count": 360
        }
      ]
    },
    {
      "cell_type": "code",
      "source": [
        "y_val.shape"
      ],
      "metadata": {
        "colab": {
          "base_uri": "https://localhost:8080/"
        },
        "id": "r_Q6SHf80Qlk",
        "outputId": "b8df0873-c7d5-4e91-a84a-db082ad19bf0"
      },
      "execution_count": 361,
      "outputs": [
        {
          "output_type": "execute_result",
          "data": {
            "text/plain": [
              "(652, 5)"
            ]
          },
          "metadata": {},
          "execution_count": 361
        }
      ]
    },
    {
      "cell_type": "markdown",
      "source": [
        "##Create a neural network model"
      ],
      "metadata": {
        "id": "R2KVZWKCReEJ"
      }
    },
    {
      "cell_type": "code",
      "source": [
        "def baseline():\n",
        "  # create model\n",
        "    model = Sequential()\n",
        "    model.add(Dense(45, input_dim=21, activation='linear'))\n",
        "    # add one fully connected layer\n",
        "    model.add(Dense(30, activation='relu'))\n",
        "    # add one fully connected layer\n",
        "    model.add(Dense(15, activation='relu'))\n",
        "    # add one fully connected layer\n",
        "    model.add(Dense(10, activation='linear'))        \n",
        "    # add one fully connected layer\n",
        "    model.add(Dense(5, activation='softmax'))\n",
        "    # Compile model\n",
        "    model.compile(loss='categorical_crossentropy', \n",
        "                  optimizer='adam', \n",
        "                  metrics=['accuracy'])\n",
        "    return model"
      ],
      "metadata": {
        "id": "t9iQqtsMvu05"
      },
      "execution_count": 362,
      "outputs": []
    },
    {
      "cell_type": "markdown",
      "source": [
        "##  Initialise the model"
      ],
      "metadata": {
        "id": "qjrB5gpARLWb"
      }
    },
    {
      "cell_type": "code",
      "source": [
        "model = baseline()"
      ],
      "metadata": {
        "id": "gzCw9sAdxfql"
      },
      "execution_count": 363,
      "outputs": []
    },
    {
      "cell_type": "markdown",
      "source": [
        "## Determine the number of trainable parameters"
      ],
      "metadata": {
        "id": "XHpQrIWg8lpy"
      }
    },
    {
      "cell_type": "code",
      "source": [
        "model.summary()"
      ],
      "metadata": {
        "colab": {
          "base_uri": "https://localhost:8080/"
        },
        "id": "X3b9iJkYxsdH",
        "outputId": "66e23cf1-f525-4bd1-bb1e-5964222b7e0c"
      },
      "execution_count": 364,
      "outputs": [
        {
          "output_type": "stream",
          "name": "stdout",
          "text": [
            "Model: \"sequential_12\"\n",
            "_________________________________________________________________\n",
            " Layer (type)                Output Shape              Param #   \n",
            "=================================================================\n",
            " dense_60 (Dense)            (None, 45)                990       \n",
            "                                                                 \n",
            " dense_61 (Dense)            (None, 30)                1380      \n",
            "                                                                 \n",
            " dense_62 (Dense)            (None, 15)                465       \n",
            "                                                                 \n",
            " dense_63 (Dense)            (None, 10)                160       \n",
            "                                                                 \n",
            " dense_64 (Dense)            (None, 5)                 55        \n",
            "                                                                 \n",
            "=================================================================\n",
            "Total params: 3,050\n",
            "Trainable params: 3,050\n",
            "Non-trainable params: 0\n",
            "_________________________________________________________________\n"
          ]
        }
      ]
    },
    {
      "cell_type": "markdown",
      "source": [
        "## Begin training"
      ],
      "metadata": {
        "id": "0BS2MsGd36Vo"
      }
    },
    {
      "cell_type": "code",
      "source": [
        "history = model.fit(x_train, y_train, validation_data=(x_val, y_val) ,epochs = 25)"
      ],
      "metadata": {
        "colab": {
          "base_uri": "https://localhost:8080/"
        },
        "id": "ZroiE1auzI35",
        "outputId": "73a22a5c-f7e9-434a-f402-ad2b7a77d5b3"
      },
      "execution_count": 365,
      "outputs": [
        {
          "output_type": "stream",
          "name": "stdout",
          "text": [
            "Epoch 1/25\n",
            "48/48 [==============================] - 1s 7ms/step - loss: 1.3353 - accuracy: 0.5296 - val_loss: 0.9744 - val_accuracy: 0.7715\n",
            "Epoch 2/25\n",
            "48/48 [==============================] - 0s 3ms/step - loss: 0.7554 - accuracy: 0.7737 - val_loss: 0.5268 - val_accuracy: 0.7945\n",
            "Epoch 3/25\n",
            "48/48 [==============================] - 0s 3ms/step - loss: 0.4758 - accuracy: 0.8250 - val_loss: 0.3647 - val_accuracy: 0.8819\n",
            "Epoch 4/25\n",
            "48/48 [==============================] - 0s 3ms/step - loss: 0.3392 - accuracy: 0.8987 - val_loss: 0.2595 - val_accuracy: 0.9264\n",
            "Epoch 5/25\n",
            "48/48 [==============================] - 0s 3ms/step - loss: 0.2609 - accuracy: 0.9283 - val_loss: 0.2123 - val_accuracy: 0.9479\n",
            "Epoch 6/25\n",
            "48/48 [==============================] - 0s 3ms/step - loss: 0.2120 - accuracy: 0.9441 - val_loss: 0.1760 - val_accuracy: 0.9525\n",
            "Epoch 7/25\n",
            "48/48 [==============================] - 0s 3ms/step - loss: 0.1777 - accuracy: 0.9493 - val_loss: 0.1580 - val_accuracy: 0.9540\n",
            "Epoch 8/25\n",
            "48/48 [==============================] - 0s 4ms/step - loss: 0.1557 - accuracy: 0.9539 - val_loss: 0.1347 - val_accuracy: 0.9586\n",
            "Epoch 9/25\n",
            "48/48 [==============================] - 0s 2ms/step - loss: 0.1344 - accuracy: 0.9559 - val_loss: 0.1211 - val_accuracy: 0.9663\n",
            "Epoch 10/25\n",
            "48/48 [==============================] - 0s 3ms/step - loss: 0.1169 - accuracy: 0.9638 - val_loss: 0.1101 - val_accuracy: 0.9663\n",
            "Epoch 11/25\n",
            "48/48 [==============================] - 0s 3ms/step - loss: 0.1028 - accuracy: 0.9664 - val_loss: 0.1002 - val_accuracy: 0.9724\n",
            "Epoch 12/25\n",
            "48/48 [==============================] - 0s 2ms/step - loss: 0.0921 - accuracy: 0.9704 - val_loss: 0.0918 - val_accuracy: 0.9709\n",
            "Epoch 13/25\n",
            "48/48 [==============================] - 0s 3ms/step - loss: 0.0811 - accuracy: 0.9737 - val_loss: 0.0890 - val_accuracy: 0.9693\n",
            "Epoch 14/25\n",
            "48/48 [==============================] - 0s 3ms/step - loss: 0.0727 - accuracy: 0.9750 - val_loss: 0.0744 - val_accuracy: 0.9755\n",
            "Epoch 15/25\n",
            "48/48 [==============================] - 0s 2ms/step - loss: 0.0635 - accuracy: 0.9822 - val_loss: 0.0773 - val_accuracy: 0.9801\n",
            "Epoch 16/25\n",
            "48/48 [==============================] - 0s 2ms/step - loss: 0.0599 - accuracy: 0.9829 - val_loss: 0.0643 - val_accuracy: 0.9801\n",
            "Epoch 17/25\n",
            "48/48 [==============================] - 0s 2ms/step - loss: 0.0565 - accuracy: 0.9836 - val_loss: 0.0706 - val_accuracy: 0.9816\n",
            "Epoch 18/25\n",
            "48/48 [==============================] - 0s 3ms/step - loss: 0.0504 - accuracy: 0.9868 - val_loss: 0.0714 - val_accuracy: 0.9816\n",
            "Epoch 19/25\n",
            "48/48 [==============================] - 0s 3ms/step - loss: 0.0479 - accuracy: 0.9868 - val_loss: 0.0555 - val_accuracy: 0.9862\n",
            "Epoch 20/25\n",
            "48/48 [==============================] - 0s 4ms/step - loss: 0.0418 - accuracy: 0.9868 - val_loss: 0.0611 - val_accuracy: 0.9831\n",
            "Epoch 21/25\n",
            "48/48 [==============================] - 0s 2ms/step - loss: 0.0382 - accuracy: 0.9875 - val_loss: 0.0589 - val_accuracy: 0.9816\n",
            "Epoch 22/25\n",
            "48/48 [==============================] - 0s 2ms/step - loss: 0.0341 - accuracy: 0.9921 - val_loss: 0.0524 - val_accuracy: 0.9847\n",
            "Epoch 23/25\n",
            "48/48 [==============================] - 0s 3ms/step - loss: 0.0362 - accuracy: 0.9908 - val_loss: 0.0502 - val_accuracy: 0.9847\n",
            "Epoch 24/25\n",
            "48/48 [==============================] - 0s 4ms/step - loss: 0.0308 - accuracy: 0.9928 - val_loss: 0.0578 - val_accuracy: 0.9862\n",
            "Epoch 25/25\n",
            "48/48 [==============================] - 0s 4ms/step - loss: 0.0289 - accuracy: 0.9934 - val_loss: 0.0567 - val_accuracy: 0.9862\n"
          ]
        }
      ]
    },
    {
      "cell_type": "markdown",
      "source": [
        "## Predict on the test data"
      ],
      "metadata": {
        "id": "hV74U5gT3mBG"
      }
    },
    {
      "cell_type": "code",
      "source": [
        "prediction = model.predict(x_test) # create predication data from test data"
      ],
      "metadata": {
        "id": "h0I9uSKS17eP"
      },
      "execution_count": 366,
      "outputs": []
    },
    {
      "cell_type": "code",
      "source": [
        "prediction # check prediction data"
      ],
      "metadata": {
        "colab": {
          "base_uri": "https://localhost:8080/"
        },
        "id": "NQ-3EOMo2Aw7",
        "outputId": "e9a9dbec-d949-4a48-858a-ecfa564a270b"
      },
      "execution_count": 367,
      "outputs": [
        {
          "output_type": "execute_result",
          "data": {
            "text/plain": [
              "array([[5.2360640e-08, 2.3640955e-06, 2.2144352e-04, 9.9977618e-01,\n",
              "        2.1725359e-08],\n",
              "       [2.4219823e-10, 1.0070390e-08, 9.9921954e-01, 7.7506999e-04,\n",
              "        5.3973522e-06],\n",
              "       [2.2811808e-08, 1.6504488e-07, 9.9808854e-01, 1.8128866e-03,\n",
              "        9.8315257e-05],\n",
              "       ...,\n",
              "       [2.4468851e-09, 6.9343159e-08, 9.9868590e-01, 1.2934700e-03,\n",
              "        2.0476629e-05],\n",
              "       [9.9629200e-01, 9.8454948e-05, 7.9183572e-08, 1.2789459e-04,\n",
              "        3.4814919e-03],\n",
              "       [1.3955270e-10, 3.1434129e-09, 9.9988794e-01, 9.9597251e-05,\n",
              "        1.2339885e-05]], dtype=float32)"
            ]
          },
          "metadata": {},
          "execution_count": 367
        }
      ]
    },
    {
      "cell_type": "code",
      "source": [
        "prediction_classes = np.argmax(prediction, axis=1) #"
      ],
      "metadata": {
        "id": "3iLvB4Qc2Fdg"
      },
      "execution_count": 368,
      "outputs": []
    },
    {
      "cell_type": "markdown",
      "source": [
        "## Compute the accuracy"
      ],
      "metadata": {
        "id": "T9F2aq5B3dSI"
      }
    },
    {
      "cell_type": "code",
      "source": [
        "confusion_matrix(np.argmax(y_test,1), prediction_classes) # checking confusion matrix"
      ],
      "metadata": {
        "colab": {
          "base_uri": "https://localhost:8080/"
        },
        "id": "gRzHRi242TRf",
        "outputId": "658a5c21-4178-4a6a-a859-7120dcff9a4c"
      },
      "execution_count": 369,
      "outputs": [
        {
          "output_type": "execute_result",
          "data": {
            "text/plain": [
              "array([[159,   0,   0,   4,   5],\n",
              "       [  0, 133,   0,   0,   0],\n",
              "       [  1,   0, 234,   1,   1],\n",
              "       [  3,   2,   2,  64,   0],\n",
              "       [  1,   0,   0,   0, 114]])"
            ]
          },
          "metadata": {},
          "execution_count": 369
        }
      ]
    },
    {
      "cell_type": "code",
      "source": [
        "accuracy_score(np.argmax(y_test,1), prediction_classes)"
      ],
      "metadata": {
        "colab": {
          "base_uri": "https://localhost:8080/"
        },
        "id": "5QGuwuKu2ZGU",
        "outputId": "6ee3f78d-4d77-459b-d358-6ffd3476d4f6"
      },
      "execution_count": 370,
      "outputs": [
        {
          "output_type": "execute_result",
          "data": {
            "text/plain": [
              "0.9723756906077348"
            ]
          },
          "metadata": {},
          "execution_count": 370
        }
      ]
    },
    {
      "cell_type": "markdown",
      "source": [
        "# Creating plot"
      ],
      "metadata": {
        "id": "ESOeHBQC3UMd"
      }
    },
    {
      "cell_type": "code",
      "source": [
        "def plot_hist(h, xsize=6, ysize=10):\n",
        "\n",
        "    fig_size = plt.rcParams[\"figure.figsize\"]\n",
        "    plt.rcParams[\"figure.figsize\"] = [xsize, ysize]\n",
        "    fig, axes = plt.subplots(nrows=1, ncols=1, sharex=True)\n",
        "    \n",
        "    # summarize history for Accuracy\n",
        "    plt.subplot(211)\n",
        "    plt.plot(h['accuracy'])\n",
        "    plt.plot(h['val_accuracy'])\n",
        "    plt.title('Training Performance')\n",
        "    plt.ylabel('Accuracy')\n",
        "    plt.xlabel('Epochs')\n",
        "    plt.legend(['Train', 'Validation'], loc='best')\n",
        "    \n",
        "    plt.draw()\n",
        "    plt.show()\n",
        "\n",
        "    return"
      ],
      "metadata": {
        "id": "uyK6U50G2jsI"
      },
      "execution_count": 371,
      "outputs": []
    },
    {
      "cell_type": "code",
      "source": [
        "\n",
        "plot_hist(history.history, xsize=8, ysize=12)"
      ],
      "metadata": {
        "colab": {
          "base_uri": "https://localhost:8080/",
          "height": 374
        },
        "id": "I11YXSR62qOz",
        "outputId": "3898334b-86f5-4d37-e33f-13bbe6a30075"
      },
      "execution_count": 372,
      "outputs": [
        {
          "output_type": "display_data",
          "data": {
            "image/png": "[encoded data removed]",
            "text/plain": [
              "<Figure size 576x864 with 1 Axes>"
            ]
          },
          "metadata": {
            "needs_background": "light"
          }
        }
      ]
    },
    {
      "cell_type": "markdown",
      "source": [
        "Class 3 is the class with the most wrong predictions because with had the less data about it and class 2 has the best prediction beacause we had the most data on it. I did not make all the classes equal because i would have loss of data about the other classes despite the fact that i would have got a higher accuarcy at the end  "
      ],
      "metadata": {
        "id": "2YSojr2mIVYu"
      }
    }
  ]
}